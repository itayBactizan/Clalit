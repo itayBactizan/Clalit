{
 "cells": [
  {
   "cell_type": "markdown",
   "id": "d3eadaa5-e46d-4c4a-b154-c8f36500ab8d",
   "metadata": {},
   "source": [
    "# import packages"
   ]
  },
  {
   "cell_type": "code",
   "execution_count": 746,
   "id": "5ecd19e3-f369-413d-a113-f3254f2147df",
   "metadata": {},
   "outputs": [
    {
     "ename": "ModuleNotFoundError",
     "evalue": "No module named 'xgboost'",
     "output_type": "error",
     "traceback": [
      "\u001b[31m---------------------------------------------------------------------------\u001b[39m",
      "\u001b[31mModuleNotFoundError\u001b[39m                       Traceback (most recent call last)",
      "\u001b[36mCell\u001b[39m\u001b[36m \u001b[39m\u001b[32mIn[746]\u001b[39m\u001b[32m, line 14\u001b[39m\n\u001b[32m     12\u001b[39m \u001b[38;5;28;01mfrom\u001b[39;00m\u001b[38;5;250m \u001b[39m\u001b[34;01msklearn\u001b[39;00m\u001b[34;01m.\u001b[39;00m\u001b[34;01mmodel_selection\u001b[39;00m\u001b[38;5;250m \u001b[39m\u001b[38;5;28;01mimport\u001b[39;00m GridSearchCV\n\u001b[32m     13\u001b[39m \u001b[38;5;28;01mfrom\u001b[39;00m\u001b[38;5;250m \u001b[39m\u001b[34;01msklearn\u001b[39;00m\u001b[34;01m.\u001b[39;00m\u001b[34;01mmodel_selection\u001b[39;00m\u001b[38;5;250m \u001b[39m\u001b[38;5;28;01mimport\u001b[39;00m ShuffleSplit\n\u001b[32m---> \u001b[39m\u001b[32m14\u001b[39m \u001b[38;5;28;01mfrom\u001b[39;00m\u001b[38;5;250m \u001b[39m\u001b[34;01mxgboost\u001b[39;00m\u001b[38;5;250m \u001b[39m\u001b[38;5;28;01mimport\u001b[39;00m XGBClassifier\n",
      "\u001b[31mModuleNotFoundError\u001b[39m: No module named 'xgboost'"
     ]
    }
   ],
   "source": [
    "import pandas as pd\n",
    "import json\n",
    "import numpy as np\n",
    "import matplotlib.pyplot as plt\n",
    "from sklearn.preprocessing import LabelEncoder\n",
    "from sklearn.preprocessing import OneHotEncoder\n",
    "from sklearn.model_selection import train_test_split, GridSearchCV, cross_val_score\n",
    "from sklearn.tree import DecisionTreeClassifier\n",
    "from sklearn.metrics import confusion_matrix, classification_report, accuracy_score\n",
    "from sklearn.metrics import precision_score, recall_score, make_scorer\n",
    "from sklearn.tree import plot_tree\n",
    "from sklearn.model_selection import GridSearchCV\n",
    "from sklearn.model_selection import ShuffleSplit\n",
    "from xgboost import XGBClassifier\n"
   ]
  },
  {
   "cell_type": "markdown",
   "id": "8bad352f-3ed6-4628-a322-60cf5911ea6b",
   "metadata": {},
   "source": [
    "# Data load"
   ]
  },
  {
   "cell_type": "code",
   "execution_count": 597,
   "id": "4d42abc7-96de-4fde-a48f-a011eb3cf608",
   "metadata": {},
   "outputs": [],
   "source": [
    "df_disease=pd.read_csv(\"Prediction home assignment data.csv\")"
   ]
  },
  {
   "cell_type": "code",
   "execution_count": 598,
   "id": "63c8afff-aaf6-46a4-b52d-565cf90303f1",
   "metadata": {},
   "outputs": [
    {
     "data": {
      "text/html": [
       "<div>\n",
       "<style scoped>\n",
       "    .dataframe tbody tr th:only-of-type {\n",
       "        vertical-align: middle;\n",
       "    }\n",
       "\n",
       "    .dataframe tbody tr th {\n",
       "        vertical-align: top;\n",
       "    }\n",
       "\n",
       "    .dataframe thead th {\n",
       "        text-align: right;\n",
       "    }\n",
       "</style>\n",
       "<table border=\"1\" class=\"dataframe\">\n",
       "  <thead>\n",
       "    <tr style=\"text-align: right;\">\n",
       "      <th></th>\n",
       "      <th>ID</th>\n",
       "      <th>Disease</th>\n",
       "      <th>Age</th>\n",
       "      <th>Sex</th>\n",
       "      <th>Blood Pressure</th>\n",
       "      <th>Sport Activity Level</th>\n",
       "      <th>BMI</th>\n",
       "      <th>Alcohol Consumption</th>\n",
       "      <th>Cholesterol Level</th>\n",
       "      <th>Family History of Disease</th>\n",
       "      <th>Medication Use</th>\n",
       "      <th>Occupation Type</th>\n",
       "      <th>Sleep Hours per Night</th>\n",
       "      <th>Stress Level</th>\n",
       "    </tr>\n",
       "  </thead>\n",
       "  <tbody>\n",
       "    <tr>\n",
       "      <th>0</th>\n",
       "      <td>9292</td>\n",
       "      <td>Diabetes</td>\n",
       "      <td>65</td>\n",
       "      <td>Male</td>\n",
       "      <td>8.078688</td>\n",
       "      <td>1.226998</td>\n",
       "      <td>8.654499</td>\n",
       "      <td>6.616191</td>\n",
       "      <td>9.809791</td>\n",
       "      <td>Yes</td>\n",
       "      <td>Yes</td>\n",
       "      <td>Manual</td>\n",
       "      <td>4.502498</td>\n",
       "      <td>3.272403</td>\n",
       "    </tr>\n",
       "    <tr>\n",
       "      <th>1</th>\n",
       "      <td>8088</td>\n",
       "      <td>Coronary Heart Disease</td>\n",
       "      <td>68</td>\n",
       "      <td>Male</td>\n",
       "      <td>7.561382</td>\n",
       "      <td>2.399566</td>\n",
       "      <td>7.263741</td>\n",
       "      <td>5.461729</td>\n",
       "      <td>8.256561</td>\n",
       "      <td>Yes</td>\n",
       "      <td>Yes</td>\n",
       "      <td>Sedentary</td>\n",
       "      <td>8.834171</td>\n",
       "      <td>6.614335</td>\n",
       "    </tr>\n",
       "  </tbody>\n",
       "</table>\n",
       "</div>"
      ],
      "text/plain": [
       "     ID                 Disease  Age   Sex  Blood Pressure  \\\n",
       "0  9292                Diabetes   65  Male        8.078688   \n",
       "1  8088  Coronary Heart Disease   68  Male        7.561382   \n",
       "\n",
       "   Sport Activity Level       BMI  Alcohol Consumption  Cholesterol Level  \\\n",
       "0              1.226998  8.654499             6.616191           9.809791   \n",
       "1              2.399566  7.263741             5.461729           8.256561   \n",
       "\n",
       "  Family History of Disease Medication Use Occupation Type  \\\n",
       "0                       Yes            Yes          Manual   \n",
       "1                       Yes            Yes       Sedentary   \n",
       "\n",
       "   Sleep Hours per Night  Stress Level  \n",
       "0               4.502498      3.272403  \n",
       "1               8.834171      6.614335  "
      ]
     },
     "execution_count": 598,
     "metadata": {},
     "output_type": "execute_result"
    }
   ],
   "source": [
    "df_disease.head(2)"
   ]
  },
  {
   "cell_type": "code",
   "execution_count": 599,
   "id": "62178cb1-2987-44de-aac8-d555202f4e9a",
   "metadata": {},
   "outputs": [
    {
     "data": {
      "text/plain": [
       "(10311, 14)"
      ]
     },
     "execution_count": 599,
     "metadata": {},
     "output_type": "execute_result"
    }
   ],
   "source": [
    "df_disease.shape"
   ]
  },
  {
   "cell_type": "markdown",
   "id": "13f3f951-de5b-48de-97ca-f347499765d7",
   "metadata": {},
   "source": [
    "# EDA"
   ]
  },
  {
   "cell_type": "code",
   "execution_count": 600,
   "id": "cae9765a-d46e-4321-82c1-db1c3795b2a2",
   "metadata": {},
   "outputs": [],
   "source": [
    "# check how many unique values"
   ]
  },
  {
   "cell_type": "code",
   "execution_count": 601,
   "id": "0697a200-72d7-4a21-bacc-dd76be15b9dc",
   "metadata": {},
   "outputs": [
    {
     "data": {
      "text/plain": [
       "ID                           10311\n",
       "Disease                          6\n",
       "Age                            102\n",
       "Sex                              2\n",
       "Blood Pressure               10311\n",
       "Sport Activity Level         10311\n",
       "BMI                          10311\n",
       "Alcohol Consumption          10311\n",
       "Cholesterol Level            10311\n",
       "Family History of Disease        2\n",
       "Medication Use                   2\n",
       "Occupation Type                  3\n",
       "Sleep Hours per Night        10311\n",
       "Stress Level                 10311\n",
       "dtype: int64"
      ]
     },
     "execution_count": 601,
     "metadata": {},
     "output_type": "execute_result"
    }
   ],
   "source": [
    "df_disease.nunique()"
   ]
  },
  {
   "cell_type": "code",
   "execution_count": 602,
   "id": "baf600f8-b5ba-4db9-b877-856bfa6ad98a",
   "metadata": {},
   "outputs": [
    {
     "name": "stdout",
     "output_type": "stream",
     "text": [
      "<class 'pandas.core.frame.DataFrame'>\n",
      "RangeIndex: 10311 entries, 0 to 10310\n",
      "Data columns (total 14 columns):\n",
      " #   Column                     Non-Null Count  Dtype  \n",
      "---  ------                     --------------  -----  \n",
      " 0   ID                         10311 non-null  int64  \n",
      " 1   Disease                    10311 non-null  object \n",
      " 2   Age                        10311 non-null  int64  \n",
      " 3   Sex                        10189 non-null  object \n",
      " 4   Blood Pressure             10311 non-null  float64\n",
      " 5   Sport Activity Level       10311 non-null  float64\n",
      " 6   BMI                        10311 non-null  float64\n",
      " 7   Alcohol Consumption        10311 non-null  float64\n",
      " 8   Cholesterol Level          10311 non-null  float64\n",
      " 9   Family History of Disease  10311 non-null  object \n",
      " 10  Medication Use             10311 non-null  object \n",
      " 11  Occupation Type            10311 non-null  object \n",
      " 12  Sleep Hours per Night      10311 non-null  float64\n",
      " 13  Stress Level               10311 non-null  float64\n",
      "dtypes: float64(7), int64(2), object(5)\n",
      "memory usage: 1.1+ MB\n"
     ]
    }
   ],
   "source": [
    "# check data type and verfity if there are Nulls\n",
    "df_disease.info()"
   ]
  },
  {
   "cell_type": "code",
   "execution_count": 603,
   "id": "5531c1a3-b904-48ca-9f68-744b6f9fd6c9",
   "metadata": {},
   "outputs": [
    {
     "data": {
      "text/plain": [
       "ID                             0\n",
       "Disease                        0\n",
       "Age                            0\n",
       "Sex                          122\n",
       "Blood Pressure                 0\n",
       "Sport Activity Level           0\n",
       "BMI                            0\n",
       "Alcohol Consumption            0\n",
       "Cholesterol Level              0\n",
       "Family History of Disease      0\n",
       "Medication Use                 0\n",
       "Occupation Type                0\n",
       "Sleep Hours per Night          0\n",
       "Stress Level                   0\n",
       "dtype: int64"
      ]
     },
     "execution_count": 603,
     "metadata": {},
     "output_type": "execute_result"
    }
   ],
   "source": [
    "#there is null in sex column\n",
    "df_disease.isnull().sum()"
   ]
  },
  {
   "cell_type": "code",
   "execution_count": 604,
   "id": "d34bc527-716e-400d-a121-3dbe1f400049",
   "metadata": {},
   "outputs": [
    {
     "data": {
      "text/html": [
       "<div>\n",
       "<style scoped>\n",
       "    .dataframe tbody tr th:only-of-type {\n",
       "        vertical-align: middle;\n",
       "    }\n",
       "\n",
       "    .dataframe tbody tr th {\n",
       "        vertical-align: top;\n",
       "    }\n",
       "\n",
       "    .dataframe thead th {\n",
       "        text-align: right;\n",
       "    }\n",
       "</style>\n",
       "<table border=\"1\" class=\"dataframe\">\n",
       "  <thead>\n",
       "    <tr style=\"text-align: right;\">\n",
       "      <th></th>\n",
       "      <th>ID</th>\n",
       "      <th>Age</th>\n",
       "      <th>Blood Pressure</th>\n",
       "      <th>Sport Activity Level</th>\n",
       "      <th>BMI</th>\n",
       "      <th>Alcohol Consumption</th>\n",
       "      <th>Cholesterol Level</th>\n",
       "      <th>Sleep Hours per Night</th>\n",
       "      <th>Stress Level</th>\n",
       "    </tr>\n",
       "  </thead>\n",
       "  <tbody>\n",
       "    <tr>\n",
       "      <th>count</th>\n",
       "      <td>10311.000000</td>\n",
       "      <td>10311.000000</td>\n",
       "      <td>10311.000000</td>\n",
       "      <td>10311.000000</td>\n",
       "      <td>10311.000000</td>\n",
       "      <td>10311.000000</td>\n",
       "      <td>10311.000000</td>\n",
       "      <td>10311.000000</td>\n",
       "      <td>10311.000000</td>\n",
       "    </tr>\n",
       "    <tr>\n",
       "      <th>mean</th>\n",
       "      <td>5156.000000</td>\n",
       "      <td>55.027058</td>\n",
       "      <td>7.318626</td>\n",
       "      <td>3.381845</td>\n",
       "      <td>7.386745</td>\n",
       "      <td>5.537098</td>\n",
       "      <td>7.334243</td>\n",
       "      <td>5.533362</td>\n",
       "      <td>6.758784</td>\n",
       "    </tr>\n",
       "    <tr>\n",
       "      <th>std</th>\n",
       "      <td>2976.673647</td>\n",
       "      <td>25.269767</td>\n",
       "      <td>2.286853</td>\n",
       "      <td>2.380902</td>\n",
       "      <td>4.571305</td>\n",
       "      <td>2.105974</td>\n",
       "      <td>2.250925</td>\n",
       "      <td>2.808371</td>\n",
       "      <td>2.504161</td>\n",
       "    </tr>\n",
       "    <tr>\n",
       "      <th>min</th>\n",
       "      <td>1.000000</td>\n",
       "      <td>-81.000000</td>\n",
       "      <td>1.001694</td>\n",
       "      <td>1.000636</td>\n",
       "      <td>1.004980</td>\n",
       "      <td>1.001299</td>\n",
       "      <td>1.003370</td>\n",
       "      <td>1.001045</td>\n",
       "      <td>1.005226</td>\n",
       "    </tr>\n",
       "    <tr>\n",
       "      <th>25%</th>\n",
       "      <td>2578.500000</td>\n",
       "      <td>33.000000</td>\n",
       "      <td>6.669955</td>\n",
       "      <td>1.736170</td>\n",
       "      <td>5.114864</td>\n",
       "      <td>4.243824</td>\n",
       "      <td>6.622169</td>\n",
       "      <td>2.890129</td>\n",
       "      <td>4.978726</td>\n",
       "    </tr>\n",
       "    <tr>\n",
       "      <th>50%</th>\n",
       "      <td>5156.000000</td>\n",
       "      <td>57.000000</td>\n",
       "      <td>7.959043</td>\n",
       "      <td>2.472736</td>\n",
       "      <td>7.282356</td>\n",
       "      <td>5.538209</td>\n",
       "      <td>7.940499</td>\n",
       "      <td>5.619195</td>\n",
       "      <td>7.523396</td>\n",
       "    </tr>\n",
       "    <tr>\n",
       "      <th>75%</th>\n",
       "      <td>7733.500000</td>\n",
       "      <td>74.000000</td>\n",
       "      <td>8.977563</td>\n",
       "      <td>4.280024</td>\n",
       "      <td>8.706368</td>\n",
       "      <td>6.801099</td>\n",
       "      <td>8.989431</td>\n",
       "      <td>8.133746</td>\n",
       "      <td>8.760922</td>\n",
       "    </tr>\n",
       "    <tr>\n",
       "      <th>max</th>\n",
       "      <td>10311.000000</td>\n",
       "      <td>195.000000</td>\n",
       "      <td>9.999322</td>\n",
       "      <td>9.995175</td>\n",
       "      <td>34.958024</td>\n",
       "      <td>9.999554</td>\n",
       "      <td>9.999916</td>\n",
       "      <td>9.999182</td>\n",
       "      <td>9.999634</td>\n",
       "    </tr>\n",
       "  </tbody>\n",
       "</table>\n",
       "</div>"
      ],
      "text/plain": [
       "                 ID           Age  Blood Pressure  Sport Activity Level  \\\n",
       "count  10311.000000  10311.000000    10311.000000          10311.000000   \n",
       "mean    5156.000000     55.027058        7.318626              3.381845   \n",
       "std     2976.673647     25.269767        2.286853              2.380902   \n",
       "min        1.000000    -81.000000        1.001694              1.000636   \n",
       "25%     2578.500000     33.000000        6.669955              1.736170   \n",
       "50%     5156.000000     57.000000        7.959043              2.472736   \n",
       "75%     7733.500000     74.000000        8.977563              4.280024   \n",
       "max    10311.000000    195.000000        9.999322              9.995175   \n",
       "\n",
       "                BMI  Alcohol Consumption  Cholesterol Level  \\\n",
       "count  10311.000000         10311.000000       10311.000000   \n",
       "mean       7.386745             5.537098           7.334243   \n",
       "std        4.571305             2.105974           2.250925   \n",
       "min        1.004980             1.001299           1.003370   \n",
       "25%        5.114864             4.243824           6.622169   \n",
       "50%        7.282356             5.538209           7.940499   \n",
       "75%        8.706368             6.801099           8.989431   \n",
       "max       34.958024             9.999554           9.999916   \n",
       "\n",
       "       Sleep Hours per Night  Stress Level  \n",
       "count           10311.000000  10311.000000  \n",
       "mean                5.533362      6.758784  \n",
       "std                 2.808371      2.504161  \n",
       "min                 1.001045      1.005226  \n",
       "25%                 2.890129      4.978726  \n",
       "50%                 5.619195      7.523396  \n",
       "75%                 8.133746      8.760922  \n",
       "max                 9.999182      9.999634  "
      ]
     },
     "execution_count": 604,
     "metadata": {},
     "output_type": "execute_result"
    }
   ],
   "source": [
    "#check if there are weird data\n",
    "df_disease.describe()"
   ]
  },
  {
   "cell_type": "code",
   "execution_count": 605,
   "id": "ab27ed17-6779-449e-bb61-0dde0b17a3f4",
   "metadata": {},
   "outputs": [
    {
     "data": {
      "text/plain": [
       "139"
      ]
     },
     "execution_count": 605,
     "metadata": {},
     "output_type": "execute_result"
    }
   ],
   "source": [
    "# there are 139 rows with wrong age, lower then 0\n",
    "len(df_disease[df_disease.Age<0])"
   ]
  },
  {
   "cell_type": "code",
   "execution_count": 606,
   "id": "8df308d3-f094-4ca1-a0ea-7b37a768096b",
   "metadata": {},
   "outputs": [],
   "source": [
    "#function change text to numbers in order to check correlation between columns\n",
    "def change_text_to_numbers(df,columns):\n",
    "    enc = LabelEncoder()\n",
    "    for col in columns:\n",
    "        unique_vals=sorted(df[col].dropna().unique())\n",
    "        print(col,'_',unique_vals)\n",
    "        if col=='Disease':\n",
    "            disease_map={ 'Healthy':0,\n",
    "                          'Anxiety': 1, \n",
    "                          'Depression':2 ,\n",
    "                          'Autoimmune Disorder':3,\n",
    "                          'Diabetes':4,\n",
    "                          'Coronary Heart Disease':5 }\n",
    "            df['Disease_1'] = df[col].map(disease_map)\n",
    "        elif col=='Occupation Type':\n",
    "            Occupation_map={\n",
    "                'Sedentary':0,\n",
    "                'Active':1,\n",
    "                'Manual':2 \n",
    "            }\n",
    "            df['OccupationType_1'] = df[col].map(Occupation_map)\n",
    "        elif (len(unique_vals)==2):\n",
    "            enc = LabelEncoder()\n",
    "            df[col+'_1'] = enc.fit_transform(df[col])\n",
    "            \n",
    "    return\n",
    "    "
   ]
  },
  {
   "cell_type": "code",
   "execution_count": 607,
   "id": "2250bac4-f37f-4a62-b6c4-727b92561c18",
   "metadata": {},
   "outputs": [
    {
     "name": "stdout",
     "output_type": "stream",
     "text": [
      "Disease _ ['Anxiety', 'Autoimmune Disorder', 'Coronary Heart Disease', 'Depression', 'Diabetes', 'Healthy']\n",
      "Sex _ ['Female', 'Male']\n",
      "Family History of Disease _ ['No', 'Yes']\n",
      "Medication Use _ ['No', 'Yes']\n",
      "Occupation Type _ ['Active', 'Manual', 'Sedentary']\n"
     ]
    }
   ],
   "source": [
    "change_text_to_numbers(df_disease,['Disease',\n",
    " 'Sex',\n",
    " 'Family History of Disease',\n",
    " 'Medication Use',\n",
    " 'Occupation Type'])"
   ]
  },
  {
   "cell_type": "code",
   "execution_count": 608,
   "id": "ea5f7255-2aac-4a38-bb1e-0618aeb9fc04",
   "metadata": {},
   "outputs": [
    {
     "data": {
      "text/html": [
       "<div>\n",
       "<style scoped>\n",
       "    .dataframe tbody tr th:only-of-type {\n",
       "        vertical-align: middle;\n",
       "    }\n",
       "\n",
       "    .dataframe tbody tr th {\n",
       "        vertical-align: top;\n",
       "    }\n",
       "\n",
       "    .dataframe thead th {\n",
       "        text-align: right;\n",
       "    }\n",
       "</style>\n",
       "<table border=\"1\" class=\"dataframe\">\n",
       "  <thead>\n",
       "    <tr style=\"text-align: right;\">\n",
       "      <th></th>\n",
       "      <th>ID</th>\n",
       "      <th>Disease</th>\n",
       "      <th>Age</th>\n",
       "      <th>Sex</th>\n",
       "      <th>Blood Pressure</th>\n",
       "      <th>Sport Activity Level</th>\n",
       "      <th>BMI</th>\n",
       "      <th>Alcohol Consumption</th>\n",
       "      <th>Cholesterol Level</th>\n",
       "      <th>Family History of Disease</th>\n",
       "      <th>Medication Use</th>\n",
       "      <th>Occupation Type</th>\n",
       "      <th>Sleep Hours per Night</th>\n",
       "      <th>Stress Level</th>\n",
       "      <th>Disease_1</th>\n",
       "      <th>Sex_1</th>\n",
       "      <th>Family History of Disease_1</th>\n",
       "      <th>Medication Use_1</th>\n",
       "      <th>OccupationType_1</th>\n",
       "    </tr>\n",
       "  </thead>\n",
       "  <tbody>\n",
       "    <tr>\n",
       "      <th>0</th>\n",
       "      <td>9292</td>\n",
       "      <td>Diabetes</td>\n",
       "      <td>65</td>\n",
       "      <td>Male</td>\n",
       "      <td>8.078688</td>\n",
       "      <td>1.226998</td>\n",
       "      <td>8.654499</td>\n",
       "      <td>6.616191</td>\n",
       "      <td>9.809791</td>\n",
       "      <td>Yes</td>\n",
       "      <td>Yes</td>\n",
       "      <td>Manual</td>\n",
       "      <td>4.502498</td>\n",
       "      <td>3.272403</td>\n",
       "      <td>4</td>\n",
       "      <td>1</td>\n",
       "      <td>1</td>\n",
       "      <td>1</td>\n",
       "      <td>2</td>\n",
       "    </tr>\n",
       "    <tr>\n",
       "      <th>1</th>\n",
       "      <td>8088</td>\n",
       "      <td>Coronary Heart Disease</td>\n",
       "      <td>68</td>\n",
       "      <td>Male</td>\n",
       "      <td>7.561382</td>\n",
       "      <td>2.399566</td>\n",
       "      <td>7.263741</td>\n",
       "      <td>5.461729</td>\n",
       "      <td>8.256561</td>\n",
       "      <td>Yes</td>\n",
       "      <td>Yes</td>\n",
       "      <td>Sedentary</td>\n",
       "      <td>8.834171</td>\n",
       "      <td>6.614335</td>\n",
       "      <td>5</td>\n",
       "      <td>1</td>\n",
       "      <td>1</td>\n",
       "      <td>1</td>\n",
       "      <td>0</td>\n",
       "    </tr>\n",
       "  </tbody>\n",
       "</table>\n",
       "</div>"
      ],
      "text/plain": [
       "     ID                 Disease  Age   Sex  Blood Pressure  \\\n",
       "0  9292                Diabetes   65  Male        8.078688   \n",
       "1  8088  Coronary Heart Disease   68  Male        7.561382   \n",
       "\n",
       "   Sport Activity Level       BMI  Alcohol Consumption  Cholesterol Level  \\\n",
       "0              1.226998  8.654499             6.616191           9.809791   \n",
       "1              2.399566  7.263741             5.461729           8.256561   \n",
       "\n",
       "  Family History of Disease Medication Use Occupation Type  \\\n",
       "0                       Yes            Yes          Manual   \n",
       "1                       Yes            Yes       Sedentary   \n",
       "\n",
       "   Sleep Hours per Night  Stress Level  Disease_1  Sex_1  \\\n",
       "0               4.502498      3.272403          4      1   \n",
       "1               8.834171      6.614335          5      1   \n",
       "\n",
       "   Family History of Disease_1  Medication Use_1  OccupationType_1  \n",
       "0                            1                 1                 2  \n",
       "1                            1                 1                 0  "
      ]
     },
     "execution_count": 608,
     "metadata": {},
     "output_type": "execute_result"
    }
   ],
   "source": [
    "df_disease.head(2)"
   ]
  },
  {
   "cell_type": "code",
   "execution_count": 609,
   "id": "6632d2f8-b40f-4953-afe2-82ec92dd9755",
   "metadata": {},
   "outputs": [
    {
     "data": {
      "text/html": [
       "<div>\n",
       "<style scoped>\n",
       "    .dataframe tbody tr th:only-of-type {\n",
       "        vertical-align: middle;\n",
       "    }\n",
       "\n",
       "    .dataframe tbody tr th {\n",
       "        vertical-align: top;\n",
       "    }\n",
       "\n",
       "    .dataframe thead th {\n",
       "        text-align: right;\n",
       "    }\n",
       "</style>\n",
       "<table border=\"1\" class=\"dataframe\">\n",
       "  <thead>\n",
       "    <tr style=\"text-align: right;\">\n",
       "      <th></th>\n",
       "      <th>Medication Use</th>\n",
       "      <th>Medication Use_1</th>\n",
       "    </tr>\n",
       "  </thead>\n",
       "  <tbody>\n",
       "    <tr>\n",
       "      <th>0</th>\n",
       "      <td>Yes</td>\n",
       "      <td>1</td>\n",
       "    </tr>\n",
       "    <tr>\n",
       "      <th>6</th>\n",
       "      <td>No</td>\n",
       "      <td>0</td>\n",
       "    </tr>\n",
       "  </tbody>\n",
       "</table>\n",
       "</div>"
      ],
      "text/plain": [
       "  Medication Use  Medication Use_1\n",
       "0            Yes                 1\n",
       "6             No                 0"
      ]
     },
     "execution_count": 609,
     "metadata": {},
     "output_type": "execute_result"
    }
   ],
   "source": [
    "df_disease[['Medication Use','Medication Use_1']].drop_duplicates()"
   ]
  },
  {
   "cell_type": "code",
   "execution_count": 610,
   "id": "39391b8f-7c65-4ad5-8c95-7b4f6c5fb684",
   "metadata": {},
   "outputs": [
    {
     "data": {
      "text/html": [
       "<div>\n",
       "<style scoped>\n",
       "    .dataframe tbody tr th:only-of-type {\n",
       "        vertical-align: middle;\n",
       "    }\n",
       "\n",
       "    .dataframe tbody tr th {\n",
       "        vertical-align: top;\n",
       "    }\n",
       "\n",
       "    .dataframe thead th {\n",
       "        text-align: right;\n",
       "    }\n",
       "</style>\n",
       "<table border=\"1\" class=\"dataframe\">\n",
       "  <thead>\n",
       "    <tr style=\"text-align: right;\">\n",
       "      <th></th>\n",
       "      <th>Disease_1</th>\n",
       "      <th>Disease</th>\n",
       "    </tr>\n",
       "  </thead>\n",
       "  <tbody>\n",
       "    <tr>\n",
       "      <th>11</th>\n",
       "      <td>0</td>\n",
       "      <td>Healthy</td>\n",
       "    </tr>\n",
       "    <tr>\n",
       "      <th>5</th>\n",
       "      <td>1</td>\n",
       "      <td>Anxiety</td>\n",
       "    </tr>\n",
       "    <tr>\n",
       "      <th>9</th>\n",
       "      <td>2</td>\n",
       "      <td>Depression</td>\n",
       "    </tr>\n",
       "    <tr>\n",
       "      <th>31</th>\n",
       "      <td>3</td>\n",
       "      <td>Autoimmune Disorder</td>\n",
       "    </tr>\n",
       "    <tr>\n",
       "      <th>0</th>\n",
       "      <td>4</td>\n",
       "      <td>Diabetes</td>\n",
       "    </tr>\n",
       "    <tr>\n",
       "      <th>1</th>\n",
       "      <td>5</td>\n",
       "      <td>Coronary Heart Disease</td>\n",
       "    </tr>\n",
       "  </tbody>\n",
       "</table>\n",
       "</div>"
      ],
      "text/plain": [
       "    Disease_1                 Disease\n",
       "11          0                 Healthy\n",
       "5           1                 Anxiety\n",
       "9           2              Depression\n",
       "31          3     Autoimmune Disorder\n",
       "0           4                Diabetes\n",
       "1           5  Coronary Heart Disease"
      ]
     },
     "execution_count": 610,
     "metadata": {},
     "output_type": "execute_result"
    }
   ],
   "source": [
    "df_disease[['Disease_1','Disease']].drop_duplicates().sort_values('Disease_1')"
   ]
  },
  {
   "cell_type": "code",
   "execution_count": 611,
   "id": "fa698af9-d2c5-461d-a70b-e637fc981ec6",
   "metadata": {},
   "outputs": [
    {
     "data": {
      "text/html": [
       "<div>\n",
       "<style scoped>\n",
       "    .dataframe tbody tr th:only-of-type {\n",
       "        vertical-align: middle;\n",
       "    }\n",
       "\n",
       "    .dataframe tbody tr th {\n",
       "        vertical-align: top;\n",
       "    }\n",
       "\n",
       "    .dataframe thead th {\n",
       "        text-align: right;\n",
       "    }\n",
       "</style>\n",
       "<table border=\"1\" class=\"dataframe\">\n",
       "  <thead>\n",
       "    <tr style=\"text-align: right;\">\n",
       "      <th></th>\n",
       "      <th>OccupationType_1</th>\n",
       "      <th>Occupation Type</th>\n",
       "    </tr>\n",
       "  </thead>\n",
       "  <tbody>\n",
       "    <tr>\n",
       "      <th>1</th>\n",
       "      <td>0</td>\n",
       "      <td>Sedentary</td>\n",
       "    </tr>\n",
       "    <tr>\n",
       "      <th>3</th>\n",
       "      <td>1</td>\n",
       "      <td>Active</td>\n",
       "    </tr>\n",
       "    <tr>\n",
       "      <th>0</th>\n",
       "      <td>2</td>\n",
       "      <td>Manual</td>\n",
       "    </tr>\n",
       "  </tbody>\n",
       "</table>\n",
       "</div>"
      ],
      "text/plain": [
       "   OccupationType_1 Occupation Type\n",
       "1                 0       Sedentary\n",
       "3                 1          Active\n",
       "0                 2          Manual"
      ]
     },
     "execution_count": 611,
     "metadata": {},
     "output_type": "execute_result"
    }
   ],
   "source": [
    "df_disease[['OccupationType_1','Occupation Type']].drop_duplicates().sort_values('OccupationType_1')"
   ]
  },
  {
   "cell_type": "code",
   "execution_count": 612,
   "id": "415aa198-cdd1-40c4-bb35-d18cd6da20ed",
   "metadata": {},
   "outputs": [
    {
     "data": {
      "image/png": "[encoded data removed]",
      "text/plain": [
       "<Figure size 640x480 with 1 Axes>"
      ]
     },
     "metadata": {},
     "output_type": "display_data"
    }
   ],
   "source": [
    "# check anomlies in the data\n",
    "df_disease[['Blood Pressure',\n",
    " 'Sport Activity Level',\n",
    " 'Sport Activity Level',\n",
    " 'BMI',\n",
    " 'Alcohol Consumption',\n",
    " 'Cholesterol Level',\n",
    " 'Sleep Hours per Night',\n",
    " 'Stress Level']].plot.box()\n",
    "plt.title(\"Box Plot of Numeric Columns\")\n",
    "plt.xticks(rotation=45)\n",
    "plt.tight_layout()\n",
    "plt.show()"
   ]
  },
  {
   "cell_type": "code",
   "execution_count": 613,
   "id": "4aa7bdcc-a331-4b56-a196-fa993de1d450",
   "metadata": {},
   "outputs": [
    {
     "data": {
      "text/plain": [
       "311"
      ]
     },
     "execution_count": 613,
     "metadata": {},
     "output_type": "execute_result"
    }
   ],
   "source": [
    "# there are 311 rows with very high BMI when comparinmg it to the avergae BMI in the dataset\n",
    "len(df_disease[df_disease.BMI>15])"
   ]
  },
  {
   "cell_type": "code",
   "execution_count": 614,
   "id": "27718894-5030-4b92-9a3d-1558f7884de7",
   "metadata": {},
   "outputs": [
    {
     "data": {
      "text/html": [
       "<div>\n",
       "<style scoped>\n",
       "    .dataframe tbody tr th:only-of-type {\n",
       "        vertical-align: middle;\n",
       "    }\n",
       "\n",
       "    .dataframe tbody tr th {\n",
       "        vertical-align: top;\n",
       "    }\n",
       "\n",
       "    .dataframe thead th {\n",
       "        text-align: right;\n",
       "    }\n",
       "</style>\n",
       "<table border=\"1\" class=\"dataframe\">\n",
       "  <thead>\n",
       "    <tr style=\"text-align: right;\">\n",
       "      <th></th>\n",
       "      <th>ID</th>\n",
       "      <th>Age</th>\n",
       "      <th>Blood Pressure</th>\n",
       "      <th>Sport Activity Level</th>\n",
       "      <th>BMI</th>\n",
       "      <th>Alcohol Consumption</th>\n",
       "      <th>Cholesterol Level</th>\n",
       "      <th>Sleep Hours per Night</th>\n",
       "      <th>Stress Level</th>\n",
       "      <th>Disease_1</th>\n",
       "      <th>Sex_1</th>\n",
       "      <th>Family History of Disease_1</th>\n",
       "      <th>Medication Use_1</th>\n",
       "      <th>OccupationType_1</th>\n",
       "    </tr>\n",
       "  </thead>\n",
       "  <tbody>\n",
       "    <tr>\n",
       "      <th>ID</th>\n",
       "      <td>1.000000</td>\n",
       "      <td>-0.045549</td>\n",
       "      <td>-0.002433</td>\n",
       "      <td>-0.010515</td>\n",
       "      <td>0.257685</td>\n",
       "      <td>0.044707</td>\n",
       "      <td>0.003696</td>\n",
       "      <td>0.032785</td>\n",
       "      <td>0.016903</td>\n",
       "      <td>0.016856</td>\n",
       "      <td>0.029208</td>\n",
       "      <td>-0.032887</td>\n",
       "      <td>0.005331</td>\n",
       "      <td>-0.026320</td>\n",
       "    </tr>\n",
       "    <tr>\n",
       "      <th>Age</th>\n",
       "      <td>-0.045549</td>\n",
       "      <td>1.000000</td>\n",
       "      <td>0.009725</td>\n",
       "      <td>-0.290510</td>\n",
       "      <td>-0.004933</td>\n",
       "      <td>-0.009315</td>\n",
       "      <td>0.275035</td>\n",
       "      <td>0.204512</td>\n",
       "      <td>-0.266309</td>\n",
       "      <td>0.398122</td>\n",
       "      <td>0.399018</td>\n",
       "      <td>0.011795</td>\n",
       "      <td>0.245082</td>\n",
       "      <td>0.138070</td>\n",
       "    </tr>\n",
       "    <tr>\n",
       "      <th>Blood Pressure</th>\n",
       "      <td>-0.002433</td>\n",
       "      <td>0.009725</td>\n",
       "      <td>1.000000</td>\n",
       "      <td>-0.061877</td>\n",
       "      <td>0.143944</td>\n",
       "      <td>-0.013470</td>\n",
       "      <td>0.053829</td>\n",
       "      <td>-0.267110</td>\n",
       "      <td>-0.052164</td>\n",
       "      <td>0.387297</td>\n",
       "      <td>0.213320</td>\n",
       "      <td>0.243722</td>\n",
       "      <td>0.223753</td>\n",
       "      <td>-0.072713</td>\n",
       "    </tr>\n",
       "    <tr>\n",
       "      <th>Sport Activity Level</th>\n",
       "      <td>-0.010515</td>\n",
       "      <td>-0.290510</td>\n",
       "      <td>-0.061877</td>\n",
       "      <td>1.000000</td>\n",
       "      <td>-0.172013</td>\n",
       "      <td>-0.003041</td>\n",
       "      <td>-0.428700</td>\n",
       "      <td>-0.321854</td>\n",
       "      <td>0.065172</td>\n",
       "      <td>-0.581667</td>\n",
       "      <td>-0.249545</td>\n",
       "      <td>-0.259771</td>\n",
       "      <td>-0.242186</td>\n",
       "      <td>-0.273161</td>\n",
       "    </tr>\n",
       "    <tr>\n",
       "      <th>BMI</th>\n",
       "      <td>0.257685</td>\n",
       "      <td>-0.004933</td>\n",
       "      <td>0.143944</td>\n",
       "      <td>-0.172013</td>\n",
       "      <td>1.000000</td>\n",
       "      <td>0.140105</td>\n",
       "      <td>0.144396</td>\n",
       "      <td>0.106184</td>\n",
       "      <td>-0.068859</td>\n",
       "      <td>0.337807</td>\n",
       "      <td>0.319734</td>\n",
       "      <td>-0.023406</td>\n",
       "      <td>0.183402</td>\n",
       "      <td>-0.047200</td>\n",
       "    </tr>\n",
       "    <tr>\n",
       "      <th>Alcohol Consumption</th>\n",
       "      <td>0.044707</td>\n",
       "      <td>-0.009315</td>\n",
       "      <td>-0.013470</td>\n",
       "      <td>-0.003041</td>\n",
       "      <td>0.140105</td>\n",
       "      <td>1.000000</td>\n",
       "      <td>0.005625</td>\n",
       "      <td>0.010351</td>\n",
       "      <td>0.002179</td>\n",
       "      <td>0.027318</td>\n",
       "      <td>0.018983</td>\n",
       "      <td>-0.020820</td>\n",
       "      <td>0.012845</td>\n",
       "      <td>-0.023562</td>\n",
       "    </tr>\n",
       "    <tr>\n",
       "      <th>Cholesterol Level</th>\n",
       "      <td>0.003696</td>\n",
       "      <td>0.275035</td>\n",
       "      <td>0.053829</td>\n",
       "      <td>-0.428700</td>\n",
       "      <td>0.144396</td>\n",
       "      <td>0.005625</td>\n",
       "      <td>1.000000</td>\n",
       "      <td>0.287483</td>\n",
       "      <td>-0.062044</td>\n",
       "      <td>0.522234</td>\n",
       "      <td>0.214809</td>\n",
       "      <td>0.245169</td>\n",
       "      <td>0.234801</td>\n",
       "      <td>0.245925</td>\n",
       "    </tr>\n",
       "    <tr>\n",
       "      <th>Sleep Hours per Night</th>\n",
       "      <td>0.032785</td>\n",
       "      <td>0.204512</td>\n",
       "      <td>-0.267110</td>\n",
       "      <td>-0.321854</td>\n",
       "      <td>0.106184</td>\n",
       "      <td>0.010351</td>\n",
       "      <td>0.287483</td>\n",
       "      <td>1.000000</td>\n",
       "      <td>0.005564</td>\n",
       "      <td>0.132152</td>\n",
       "      <td>0.019598</td>\n",
       "      <td>-0.005908</td>\n",
       "      <td>0.003427</td>\n",
       "      <td>0.254247</td>\n",
       "    </tr>\n",
       "    <tr>\n",
       "      <th>Stress Level</th>\n",
       "      <td>0.016903</td>\n",
       "      <td>-0.266309</td>\n",
       "      <td>-0.052164</td>\n",
       "      <td>0.065172</td>\n",
       "      <td>-0.068859</td>\n",
       "      <td>0.002179</td>\n",
       "      <td>-0.062044</td>\n",
       "      <td>0.005564</td>\n",
       "      <td>1.000000</td>\n",
       "      <td>-0.216890</td>\n",
       "      <td>-0.450926</td>\n",
       "      <td>0.154707</td>\n",
       "      <td>-0.207059</td>\n",
       "      <td>0.058165</td>\n",
       "    </tr>\n",
       "    <tr>\n",
       "      <th>Disease_1</th>\n",
       "      <td>0.016856</td>\n",
       "      <td>0.398122</td>\n",
       "      <td>0.387297</td>\n",
       "      <td>-0.581667</td>\n",
       "      <td>0.337807</td>\n",
       "      <td>0.027318</td>\n",
       "      <td>0.522234</td>\n",
       "      <td>0.132152</td>\n",
       "      <td>-0.216890</td>\n",
       "      <td>1.000000</td>\n",
       "      <td>0.571258</td>\n",
       "      <td>0.403475</td>\n",
       "      <td>0.484485</td>\n",
       "      <td>0.155751</td>\n",
       "    </tr>\n",
       "    <tr>\n",
       "      <th>Sex_1</th>\n",
       "      <td>0.029208</td>\n",
       "      <td>0.399018</td>\n",
       "      <td>0.213320</td>\n",
       "      <td>-0.249545</td>\n",
       "      <td>0.319734</td>\n",
       "      <td>0.018983</td>\n",
       "      <td>0.214809</td>\n",
       "      <td>0.019598</td>\n",
       "      <td>-0.450926</td>\n",
       "      <td>0.571258</td>\n",
       "      <td>1.000000</td>\n",
       "      <td>-0.064672</td>\n",
       "      <td>0.403521</td>\n",
       "      <td>-0.028617</td>\n",
       "    </tr>\n",
       "    <tr>\n",
       "      <th>Family History of Disease_1</th>\n",
       "      <td>-0.032887</td>\n",
       "      <td>0.011795</td>\n",
       "      <td>0.243722</td>\n",
       "      <td>-0.259771</td>\n",
       "      <td>-0.023406</td>\n",
       "      <td>-0.020820</td>\n",
       "      <td>0.245169</td>\n",
       "      <td>-0.005908</td>\n",
       "      <td>0.154707</td>\n",
       "      <td>0.403475</td>\n",
       "      <td>-0.064672</td>\n",
       "      <td>1.000000</td>\n",
       "      <td>0.127899</td>\n",
       "      <td>0.179852</td>\n",
       "    </tr>\n",
       "    <tr>\n",
       "      <th>Medication Use_1</th>\n",
       "      <td>0.005331</td>\n",
       "      <td>0.245082</td>\n",
       "      <td>0.223753</td>\n",
       "      <td>-0.242186</td>\n",
       "      <td>0.183402</td>\n",
       "      <td>0.012845</td>\n",
       "      <td>0.234801</td>\n",
       "      <td>0.003427</td>\n",
       "      <td>-0.207059</td>\n",
       "      <td>0.484485</td>\n",
       "      <td>0.403521</td>\n",
       "      <td>0.127899</td>\n",
       "      <td>1.000000</td>\n",
       "      <td>0.040228</td>\n",
       "    </tr>\n",
       "    <tr>\n",
       "      <th>OccupationType_1</th>\n",
       "      <td>-0.026320</td>\n",
       "      <td>0.138070</td>\n",
       "      <td>-0.072713</td>\n",
       "      <td>-0.273161</td>\n",
       "      <td>-0.047200</td>\n",
       "      <td>-0.023562</td>\n",
       "      <td>0.245925</td>\n",
       "      <td>0.254247</td>\n",
       "      <td>0.058165</td>\n",
       "      <td>0.155751</td>\n",
       "      <td>-0.028617</td>\n",
       "      <td>0.179852</td>\n",
       "      <td>0.040228</td>\n",
       "      <td>1.000000</td>\n",
       "    </tr>\n",
       "  </tbody>\n",
       "</table>\n",
       "</div>"
      ],
      "text/plain": [
       "                                   ID       Age  Blood Pressure  \\\n",
       "ID                           1.000000 -0.045549       -0.002433   \n",
       "Age                         -0.045549  1.000000        0.009725   \n",
       "Blood Pressure              -0.002433  0.009725        1.000000   \n",
       "Sport Activity Level        -0.010515 -0.290510       -0.061877   \n",
       "BMI                          0.257685 -0.004933        0.143944   \n",
       "Alcohol Consumption          0.044707 -0.009315       -0.013470   \n",
       "Cholesterol Level            0.003696  0.275035        0.053829   \n",
       "Sleep Hours per Night        0.032785  0.204512       -0.267110   \n",
       "Stress Level                 0.016903 -0.266309       -0.052164   \n",
       "Disease_1                    0.016856  0.398122        0.387297   \n",
       "Sex_1                        0.029208  0.399018        0.213320   \n",
       "Family History of Disease_1 -0.032887  0.011795        0.243722   \n",
       "Medication Use_1             0.005331  0.245082        0.223753   \n",
       "OccupationType_1            -0.026320  0.138070       -0.072713   \n",
       "\n",
       "                             Sport Activity Level       BMI  \\\n",
       "ID                                      -0.010515  0.257685   \n",
       "Age                                     -0.290510 -0.004933   \n",
       "Blood Pressure                          -0.061877  0.143944   \n",
       "Sport Activity Level                     1.000000 -0.172013   \n",
       "BMI                                     -0.172013  1.000000   \n",
       "Alcohol Consumption                     -0.003041  0.140105   \n",
       "Cholesterol Level                       -0.428700  0.144396   \n",
       "Sleep Hours per Night                   -0.321854  0.106184   \n",
       "Stress Level                             0.065172 -0.068859   \n",
       "Disease_1                               -0.581667  0.337807   \n",
       "Sex_1                                   -0.249545  0.319734   \n",
       "Family History of Disease_1             -0.259771 -0.023406   \n",
       "Medication Use_1                        -0.242186  0.183402   \n",
       "OccupationType_1                        -0.273161 -0.047200   \n",
       "\n",
       "                             Alcohol Consumption  Cholesterol Level  \\\n",
       "ID                                      0.044707           0.003696   \n",
       "Age                                    -0.009315           0.275035   \n",
       "Blood Pressure                         -0.013470           0.053829   \n",
       "Sport Activity Level                   -0.003041          -0.428700   \n",
       "BMI                                     0.140105           0.144396   \n",
       "Alcohol Consumption                     1.000000           0.005625   \n",
       "Cholesterol Level                       0.005625           1.000000   \n",
       "Sleep Hours per Night                   0.010351           0.287483   \n",
       "Stress Level                            0.002179          -0.062044   \n",
       "Disease_1                               0.027318           0.522234   \n",
       "Sex_1                                   0.018983           0.214809   \n",
       "Family History of Disease_1            -0.020820           0.245169   \n",
       "Medication Use_1                        0.012845           0.234801   \n",
       "OccupationType_1                       -0.023562           0.245925   \n",
       "\n",
       "                             Sleep Hours per Night  Stress Level  Disease_1  \\\n",
       "ID                                        0.032785      0.016903   0.016856   \n",
       "Age                                       0.204512     -0.266309   0.398122   \n",
       "Blood Pressure                           -0.267110     -0.052164   0.387297   \n",
       "Sport Activity Level                     -0.321854      0.065172  -0.581667   \n",
       "BMI                                       0.106184     -0.068859   0.337807   \n",
       "Alcohol Consumption                       0.010351      0.002179   0.027318   \n",
       "Cholesterol Level                         0.287483     -0.062044   0.522234   \n",
       "Sleep Hours per Night                     1.000000      0.005564   0.132152   \n",
       "Stress Level                              0.005564      1.000000  -0.216890   \n",
       "Disease_1                                 0.132152     -0.216890   1.000000   \n",
       "Sex_1                                     0.019598     -0.450926   0.571258   \n",
       "Family History of Disease_1              -0.005908      0.154707   0.403475   \n",
       "Medication Use_1                          0.003427     -0.207059   0.484485   \n",
       "OccupationType_1                          0.254247      0.058165   0.155751   \n",
       "\n",
       "                                Sex_1  Family History of Disease_1  \\\n",
       "ID                           0.029208                    -0.032887   \n",
       "Age                          0.399018                     0.011795   \n",
       "Blood Pressure               0.213320                     0.243722   \n",
       "Sport Activity Level        -0.249545                    -0.259771   \n",
       "BMI                          0.319734                    -0.023406   \n",
       "Alcohol Consumption          0.018983                    -0.020820   \n",
       "Cholesterol Level            0.214809                     0.245169   \n",
       "Sleep Hours per Night        0.019598                    -0.005908   \n",
       "Stress Level                -0.450926                     0.154707   \n",
       "Disease_1                    0.571258                     0.403475   \n",
       "Sex_1                        1.000000                    -0.064672   \n",
       "Family History of Disease_1 -0.064672                     1.000000   \n",
       "Medication Use_1             0.403521                     0.127899   \n",
       "OccupationType_1            -0.028617                     0.179852   \n",
       "\n",
       "                             Medication Use_1  OccupationType_1  \n",
       "ID                                   0.005331         -0.026320  \n",
       "Age                                  0.245082          0.138070  \n",
       "Blood Pressure                       0.223753         -0.072713  \n",
       "Sport Activity Level                -0.242186         -0.273161  \n",
       "BMI                                  0.183402         -0.047200  \n",
       "Alcohol Consumption                  0.012845         -0.023562  \n",
       "Cholesterol Level                    0.234801          0.245925  \n",
       "Sleep Hours per Night                0.003427          0.254247  \n",
       "Stress Level                        -0.207059          0.058165  \n",
       "Disease_1                            0.484485          0.155751  \n",
       "Sex_1                                0.403521         -0.028617  \n",
       "Family History of Disease_1          0.127899          0.179852  \n",
       "Medication Use_1                     1.000000          0.040228  \n",
       "OccupationType_1                     0.040228          1.000000  "
      ]
     },
     "execution_count": 614,
     "metadata": {},
     "output_type": "execute_result"
    }
   ],
   "source": [
    "corr_all_columns= df_disease[[col for col in df_disease.columns if df_disease[col].dtype != 'object']].corr()\n",
    "corr_all_columns"
   ]
  },
  {
   "cell_type": "code",
   "execution_count": 615,
   "id": "9114fcba-4860-43ba-a42f-0fca27c9f5c9",
   "metadata": {},
   "outputs": [
    {
     "data": {
      "text/plain": [
       "Sport Activity Level          -0.581667\n",
       "Stress Level                  -0.216890\n",
       "ID                             0.016856\n",
       "Alcohol Consumption            0.027318\n",
       "Sleep Hours per Night          0.132152\n",
       "OccupationType_1               0.155751\n",
       "BMI                            0.337807\n",
       "Blood Pressure                 0.387297\n",
       "Age                            0.398122\n",
       "Family History of Disease_1    0.403475\n",
       "Medication Use_1               0.484485\n",
       "Cholesterol Level              0.522234\n",
       "Sex_1                          0.571258\n",
       "Disease_1                      1.000000\n",
       "Name: Disease_1, dtype: float64"
      ]
     },
     "execution_count": 615,
     "metadata": {},
     "output_type": "execute_result"
    }
   ],
   "source": [
    "corr_all_columns.sort_values(['Disease_1'])['Disease_1']"
   ]
  },
  {
   "cell_type": "code",
   "execution_count": 616,
   "id": "9fcfb83b-d9ea-44fa-befc-c8154b93f6e0",
   "metadata": {},
   "outputs": [],
   "source": [
    "disease_map={ 'Healthy':0,\n",
    "                          'Anxiety': 1, \n",
    "                          'Depression':2 ,\n",
    "                          'Autoimmune Disorder':3,\n",
    "                          'Diabetes':4,\n",
    "                          'Coronary Heart Disease':5 }"
   ]
  },
  {
   "cell_type": "code",
   "execution_count": 617,
   "id": "7cc7ac7d-c578-44fe-b03a-922b649f7ad2",
   "metadata": {},
   "outputs": [],
   "source": [
    "#check sport activity vs the disease in order to se which disease it mostly effect. \n",
    "#by the graph below low sport activity effect Depression, Autoimmune Disorder,Diabetes and Coronary Heart Disease"
   ]
  },
  {
   "cell_type": "code",
   "execution_count": 618,
   "id": "a68d65e0-1d99-42ee-ada0-4decc0226c70",
   "metadata": {},
   "outputs": [
    {
     "data": {
      "image/png": "[encoded data removed]",
      "text/plain": [
       "<Figure size 640x480 with 1 Axes>"
      ]
     },
     "metadata": {},
     "output_type": "display_data"
    }
   ],
   "source": [
    "df_disease.plot.scatter(x='Disease_1', y='Sport Activity Level', title='Disease vs sport activity')\n",
    "plt.xticks(\n",
    "    ticks=list(disease_map.values()),  # [0, 1, 2, 3, 4, 5]\n",
    "    labels=list(disease_map.keys()),   # ['Coronary Heart Disease', ...]\n",
    "    rotation=45                         # Optional: rotate for better readability\n",
    ")\n",
    "\n",
    "plt.tight_layout() \n",
    "plt.show()"
   ]
  },
  {
   "cell_type": "code",
   "execution_count": 619,
   "id": "49809748-73a7-40ae-9332-98aa5e7d6cc2",
   "metadata": {},
   "outputs": [],
   "source": [
    "#check Cholesterol Level vs the disease in order to see which disease it mostly effect. \n",
    "#by the graph below high Cholesterol Level effect Depression, Autoimmune Disorder,Diabetes and Coronary Heart Disease"
   ]
  },
  {
   "cell_type": "code",
   "execution_count": 620,
   "id": "a039e053-3747-413d-852f-f6899aacee86",
   "metadata": {},
   "outputs": [
    {
     "data": {
      "image/png": "[encoded data removed]",
      "text/plain": [
       "<Figure size 640x480 with 1 Axes>"
      ]
     },
     "metadata": {},
     "output_type": "display_data"
    }
   ],
   "source": [
    "df_disease.plot.scatter(x='Disease_1', y='Cholesterol Level', title='Disease vs Cholesterol Level')\n",
    "plt.xticks(\n",
    "    ticks=list(disease_map.values()),  # [0, 1, 2, 3, 4, 5]\n",
    "    labels=list(disease_map.keys()),   # ['Coronary Heart Disease', ...]\n",
    "    rotation=45                         # Optional: rotate for better readability\n",
    ")\n",
    "\n",
    "plt.tight_layout() \n",
    "plt.show()"
   ]
  },
  {
   "cell_type": "code",
   "execution_count": 621,
   "id": "dc8b1304-63ea-4df2-a7df-ae1973b94f46",
   "metadata": {},
   "outputs": [
    {
     "data": {
      "text/html": [
       "<div>\n",
       "<style scoped>\n",
       "    .dataframe tbody tr th:only-of-type {\n",
       "        vertical-align: middle;\n",
       "    }\n",
       "\n",
       "    .dataframe tbody tr th {\n",
       "        vertical-align: top;\n",
       "    }\n",
       "\n",
       "    .dataframe thead th {\n",
       "        text-align: right;\n",
       "    }\n",
       "</style>\n",
       "<table border=\"1\" class=\"dataframe\">\n",
       "  <thead>\n",
       "    <tr style=\"text-align: right;\">\n",
       "      <th></th>\n",
       "      <th>Disease</th>\n",
       "      <th>Sex</th>\n",
       "      <th>ID</th>\n",
       "    </tr>\n",
       "  </thead>\n",
       "  <tbody>\n",
       "    <tr>\n",
       "      <th>0</th>\n",
       "      <td>Anxiety</td>\n",
       "      <td>Female</td>\n",
       "      <td>2024</td>\n",
       "    </tr>\n",
       "    <tr>\n",
       "      <th>1</th>\n",
       "      <td>Autoimmune Disorder</td>\n",
       "      <td>Female</td>\n",
       "      <td>56</td>\n",
       "    </tr>\n",
       "    <tr>\n",
       "      <th>2</th>\n",
       "      <td>Autoimmune Disorder</td>\n",
       "      <td>Male</td>\n",
       "      <td>255</td>\n",
       "    </tr>\n",
       "    <tr>\n",
       "      <th>3</th>\n",
       "      <td>Coronary Heart Disease</td>\n",
       "      <td>Male</td>\n",
       "      <td>1990</td>\n",
       "    </tr>\n",
       "    <tr>\n",
       "      <th>4</th>\n",
       "      <td>Depression</td>\n",
       "      <td>Female</td>\n",
       "      <td>1998</td>\n",
       "    </tr>\n",
       "    <tr>\n",
       "      <th>5</th>\n",
       "      <td>Diabetes</td>\n",
       "      <td>Male</td>\n",
       "      <td>1984</td>\n",
       "    </tr>\n",
       "    <tr>\n",
       "      <th>6</th>\n",
       "      <td>Healthy</td>\n",
       "      <td>Female</td>\n",
       "      <td>949</td>\n",
       "    </tr>\n",
       "    <tr>\n",
       "      <th>7</th>\n",
       "      <td>Healthy</td>\n",
       "      <td>Male</td>\n",
       "      <td>933</td>\n",
       "    </tr>\n",
       "    <tr>\n",
       "      <th>8</th>\n",
       "      <td>Healthy</td>\n",
       "      <td>NaN</td>\n",
       "      <td>122</td>\n",
       "    </tr>\n",
       "  </tbody>\n",
       "</table>\n",
       "</div>"
      ],
      "text/plain": [
       "                  Disease     Sex    ID\n",
       "0                 Anxiety  Female  2024\n",
       "1     Autoimmune Disorder  Female    56\n",
       "2     Autoimmune Disorder    Male   255\n",
       "3  Coronary Heart Disease    Male  1990\n",
       "4              Depression  Female  1998\n",
       "5                Diabetes    Male  1984\n",
       "6                 Healthy  Female   949\n",
       "7                 Healthy    Male   933\n",
       "8                 Healthy     NaN   122"
      ]
     },
     "execution_count": 621,
     "metadata": {},
     "output_type": "execute_result"
    }
   ],
   "source": [
    "# by the table below except from Autoimmune Disorder ( and Healthy) all other diseases divided by men or women not both genders\n",
    "#that mean if I will get new case where disease like Diabetes in women my model probably will be inacurate because I don't have it in our history data\n",
    "df_disease.groupby(['Disease','Sex'],dropna=False)['ID'].count().reset_index()"
   ]
  },
  {
   "cell_type": "code",
   "execution_count": 622,
   "id": "58051c86-d40d-4748-ad2c-326d82fd0792",
   "metadata": {},
   "outputs": [
    {
     "data": {
      "image/png": "[encoded data removed]",
      "text/plain": [
       "<Figure size 640x480 with 1 Axes>"
      ]
     },
     "metadata": {},
     "output_type": "display_data"
    }
   ],
   "source": [
    "# by the histogram below I can see teh data is divided equly except from Autoimmune Disorder\n",
    "#it could lead to imbalance model in this specific disease\n",
    "df_disease.Disease.value_counts().plot(kind='bar', title='Disease Frequency')\n",
    "plt.xticks(rotation=45)\n",
    "plt.xlabel('Disease')\n",
    "plt.ylabel('Frequency')\n",
    "plt.show()"
   ]
  },
  {
   "cell_type": "markdown",
   "id": "5da142d7-1121-41ab-88d1-3bf7c8a8cc93",
   "metadata": {},
   "source": [
    "# model 1- predict disease"
   ]
  },
  {
   "cell_type": "markdown",
   "id": "8078611e-d8ae-4ddb-b4ea-8ed4a1e8f76c",
   "metadata": {},
   "source": [
    "## Data Preperation"
   ]
  },
  {
   "cell_type": "markdown",
   "id": "84bf59c3-5af1-41f7-bbcf-a91a8416408f",
   "metadata": {},
   "source": [
    "### Eliminating nulls"
   ]
  },
  {
   "cell_type": "code",
   "execution_count": 623,
   "id": "4647f8ed-cb61-40d8-8537-0704e5563ab1",
   "metadata": {},
   "outputs": [
    {
     "data": {
      "text/plain": [
       "array(['Healthy'], dtype=object)"
      ]
     },
     "execution_count": 623,
     "metadata": {},
     "output_type": "execute_result"
    }
   ],
   "source": [
    "df_disease[df_disease.Sex.isnull()].Disease.unique()"
   ]
  },
  {
   "cell_type": "code",
   "execution_count": 624,
   "id": "f45386a0-cfab-46ae-ad03-d9abcc5657a3",
   "metadata": {},
   "outputs": [
    {
     "data": {
      "text/plain": [
       "np.float64(0.47355289421157687)"
      ]
     },
     "execution_count": 624,
     "metadata": {},
     "output_type": "execute_result"
    }
   ],
   "source": [
    "(((df_disease.Sex=='Female') & (df_disease.Disease=='Healthy')).sum()) / ((df_disease.Disease=='Healthy').sum())"
   ]
  },
  {
   "cell_type": "code",
   "execution_count": 625,
   "id": "53737b39-d27e-4735-a0bb-043bebcb9f16",
   "metadata": {},
   "outputs": [
    {
     "data": {
      "text/plain": [
       "20       NaN\n",
       "66       NaN\n",
       "81       NaN\n",
       "165      NaN\n",
       "188      NaN\n",
       "        ... \n",
       "9283     NaN\n",
       "9547     NaN\n",
       "9644     NaN\n",
       "9971     NaN\n",
       "10165    NaN\n",
       "Name: Sex, Length: 122, dtype: object"
      ]
     },
     "execution_count": 625,
     "metadata": {},
     "output_type": "execute_result"
    }
   ],
   "source": [
    "df_disease.loc[df_disease['Sex'].isnull(), 'Sex']"
   ]
  },
  {
   "cell_type": "code",
   "execution_count": 626,
   "id": "977aadfd-62d2-4902-9a7c-caa719b78028",
   "metadata": {},
   "outputs": [],
   "source": [
    "def fill_nulls_in_sex(df):\n",
    "    # check the probablity just for healt because just there there are nulls\n",
    "    prob_female=(((df_disease.Sex=='Female') & (df_disease.Disease=='Healthy')).sum()) / ((df_disease.Disease=='Healthy').sum())\n",
    "    print(\"prob_female is \", prob_female)\n",
    "    n_missing=(df_disease['Sex'].isnull()).sum()\n",
    "    df.loc[df['Sex'].isnull(), 'Sex'] = np.random.choice(['Female', 'Male'],size=n_missing, p=[prob_female, 1 - prob_female])\n",
    "    enc = LabelEncoder()\n",
    "    df ['Sex_1'] = enc.fit_transform(df['Sex'])\n",
    "    return\n",
    "    \n",
    "    "
   ]
  },
  {
   "cell_type": "code",
   "execution_count": 627,
   "id": "7bfb2362-32ad-4c45-9ee3-ea64a530e764",
   "metadata": {},
   "outputs": [
    {
     "name": "stdout",
     "output_type": "stream",
     "text": [
      "prob_female is  0.47355289421157687\n"
     ]
    }
   ],
   "source": [
    "fill_nulls_in_sex(df_disease)"
   ]
  },
  {
   "cell_type": "code",
   "execution_count": 628,
   "id": "006917e9-2c3e-4ea6-804f-b5798ea8910d",
   "metadata": {},
   "outputs": [
    {
     "data": {
      "text/plain": [
       "Series([], Name: Sex, dtype: object)"
      ]
     },
     "execution_count": 628,
     "metadata": {},
     "output_type": "execute_result"
    }
   ],
   "source": [
    "df_disease.loc[df_disease['Sex'].isnull(), 'Sex']"
   ]
  },
  {
   "cell_type": "code",
   "execution_count": 629,
   "id": "792d5186-e723-4018-a6dd-3bcba305ab67",
   "metadata": {},
   "outputs": [
    {
     "data": {
      "text/html": [
       "<div>\n",
       "<style scoped>\n",
       "    .dataframe tbody tr th:only-of-type {\n",
       "        vertical-align: middle;\n",
       "    }\n",
       "\n",
       "    .dataframe tbody tr th {\n",
       "        vertical-align: top;\n",
       "    }\n",
       "\n",
       "    .dataframe thead th {\n",
       "        text-align: right;\n",
       "    }\n",
       "</style>\n",
       "<table border=\"1\" class=\"dataframe\">\n",
       "  <thead>\n",
       "    <tr style=\"text-align: right;\">\n",
       "      <th></th>\n",
       "      <th>Disease</th>\n",
       "      <th>Sex</th>\n",
       "      <th>ID</th>\n",
       "    </tr>\n",
       "  </thead>\n",
       "  <tbody>\n",
       "    <tr>\n",
       "      <th>0</th>\n",
       "      <td>Anxiety</td>\n",
       "      <td>Female</td>\n",
       "      <td>2024</td>\n",
       "    </tr>\n",
       "    <tr>\n",
       "      <th>1</th>\n",
       "      <td>Autoimmune Disorder</td>\n",
       "      <td>Female</td>\n",
       "      <td>56</td>\n",
       "    </tr>\n",
       "    <tr>\n",
       "      <th>2</th>\n",
       "      <td>Autoimmune Disorder</td>\n",
       "      <td>Male</td>\n",
       "      <td>255</td>\n",
       "    </tr>\n",
       "    <tr>\n",
       "      <th>3</th>\n",
       "      <td>Coronary Heart Disease</td>\n",
       "      <td>Male</td>\n",
       "      <td>1990</td>\n",
       "    </tr>\n",
       "    <tr>\n",
       "      <th>4</th>\n",
       "      <td>Depression</td>\n",
       "      <td>Female</td>\n",
       "      <td>1998</td>\n",
       "    </tr>\n",
       "    <tr>\n",
       "      <th>5</th>\n",
       "      <td>Diabetes</td>\n",
       "      <td>Male</td>\n",
       "      <td>1984</td>\n",
       "    </tr>\n",
       "    <tr>\n",
       "      <th>6</th>\n",
       "      <td>Healthy</td>\n",
       "      <td>Female</td>\n",
       "      <td>1006</td>\n",
       "    </tr>\n",
       "    <tr>\n",
       "      <th>7</th>\n",
       "      <td>Healthy</td>\n",
       "      <td>Male</td>\n",
       "      <td>998</td>\n",
       "    </tr>\n",
       "  </tbody>\n",
       "</table>\n",
       "</div>"
      ],
      "text/plain": [
       "                  Disease     Sex    ID\n",
       "0                 Anxiety  Female  2024\n",
       "1     Autoimmune Disorder  Female    56\n",
       "2     Autoimmune Disorder    Male   255\n",
       "3  Coronary Heart Disease    Male  1990\n",
       "4              Depression  Female  1998\n",
       "5                Diabetes    Male  1984\n",
       "6                 Healthy  Female  1006\n",
       "7                 Healthy    Male   998"
      ]
     },
     "execution_count": 629,
     "metadata": {},
     "output_type": "execute_result"
    }
   ],
   "source": [
    "df_disease.groupby(['Disease','Sex'],dropna=False)['ID'].count().reset_index()"
   ]
  },
  {
   "cell_type": "markdown",
   "id": "8f344f1d-2d58-4741-8b3a-50ef5dbc8f19",
   "metadata": {},
   "source": [
    "### update categorial"
   ]
  },
  {
   "cell_type": "code",
   "execution_count": 630,
   "id": "2c387e6f-990a-4fb4-ae23-5605884632b9",
   "metadata": {},
   "outputs": [],
   "source": [
    "def update_catgorial_by_one_hot_encoder(df,column):\n",
    "    encoder = OneHotEncoder(sparse_output=False) \n",
    "    gender_encoded = encoder.fit_transform(df_disease[[column]])\n",
    "    gender_encoded_df = pd.DataFrame(gender_encoded, columns=column+'_'+encoder.categories_[0])\n",
    "    df = pd.concat([df, gender_encoded_df], axis=1)\n",
    "    \n",
    "    return df"
   ]
  },
  {
   "cell_type": "code",
   "execution_count": 631,
   "id": "97b65e32-44bf-4de9-93fd-d93ff887ffd7",
   "metadata": {},
   "outputs": [],
   "source": [
    "df_disease=update_catgorial_by_one_hot_encoder(df_disease,'Occupation Type')"
   ]
  },
  {
   "cell_type": "code",
   "execution_count": 632,
   "id": "1fbc8826-7b25-4058-a1db-af858f89a90e",
   "metadata": {},
   "outputs": [
    {
     "data": {
      "text/html": [
       "<div>\n",
       "<style scoped>\n",
       "    .dataframe tbody tr th:only-of-type {\n",
       "        vertical-align: middle;\n",
       "    }\n",
       "\n",
       "    .dataframe tbody tr th {\n",
       "        vertical-align: top;\n",
       "    }\n",
       "\n",
       "    .dataframe thead th {\n",
       "        text-align: right;\n",
       "    }\n",
       "</style>\n",
       "<table border=\"1\" class=\"dataframe\">\n",
       "  <thead>\n",
       "    <tr style=\"text-align: right;\">\n",
       "      <th></th>\n",
       "      <th>ID</th>\n",
       "      <th>Disease</th>\n",
       "      <th>Age</th>\n",
       "      <th>Sex</th>\n",
       "      <th>Blood Pressure</th>\n",
       "      <th>Sport Activity Level</th>\n",
       "      <th>BMI</th>\n",
       "      <th>Alcohol Consumption</th>\n",
       "      <th>Cholesterol Level</th>\n",
       "      <th>Family History of Disease</th>\n",
       "      <th>...</th>\n",
       "      <th>Sleep Hours per Night</th>\n",
       "      <th>Stress Level</th>\n",
       "      <th>Disease_1</th>\n",
       "      <th>Sex_1</th>\n",
       "      <th>Family History of Disease_1</th>\n",
       "      <th>Medication Use_1</th>\n",
       "      <th>OccupationType_1</th>\n",
       "      <th>Occupation Type_Active</th>\n",
       "      <th>Occupation Type_Manual</th>\n",
       "      <th>Occupation Type_Sedentary</th>\n",
       "    </tr>\n",
       "  </thead>\n",
       "  <tbody>\n",
       "    <tr>\n",
       "      <th>0</th>\n",
       "      <td>9292</td>\n",
       "      <td>Diabetes</td>\n",
       "      <td>65</td>\n",
       "      <td>Male</td>\n",
       "      <td>8.078688</td>\n",
       "      <td>1.226998</td>\n",
       "      <td>8.654499</td>\n",
       "      <td>6.616191</td>\n",
       "      <td>9.809791</td>\n",
       "      <td>Yes</td>\n",
       "      <td>...</td>\n",
       "      <td>4.502498</td>\n",
       "      <td>3.272403</td>\n",
       "      <td>4</td>\n",
       "      <td>1</td>\n",
       "      <td>1</td>\n",
       "      <td>1</td>\n",
       "      <td>2</td>\n",
       "      <td>0.0</td>\n",
       "      <td>1.0</td>\n",
       "      <td>0.0</td>\n",
       "    </tr>\n",
       "    <tr>\n",
       "      <th>1</th>\n",
       "      <td>8088</td>\n",
       "      <td>Coronary Heart Disease</td>\n",
       "      <td>68</td>\n",
       "      <td>Male</td>\n",
       "      <td>7.561382</td>\n",
       "      <td>2.399566</td>\n",
       "      <td>7.263741</td>\n",
       "      <td>5.461729</td>\n",
       "      <td>8.256561</td>\n",
       "      <td>Yes</td>\n",
       "      <td>...</td>\n",
       "      <td>8.834171</td>\n",
       "      <td>6.614335</td>\n",
       "      <td>5</td>\n",
       "      <td>1</td>\n",
       "      <td>1</td>\n",
       "      <td>1</td>\n",
       "      <td>0</td>\n",
       "      <td>0.0</td>\n",
       "      <td>0.0</td>\n",
       "      <td>1.0</td>\n",
       "    </tr>\n",
       "  </tbody>\n",
       "</table>\n",
       "<p>2 rows × 22 columns</p>\n",
       "</div>"
      ],
      "text/plain": [
       "     ID                 Disease  Age   Sex  Blood Pressure  \\\n",
       "0  9292                Diabetes   65  Male        8.078688   \n",
       "1  8088  Coronary Heart Disease   68  Male        7.561382   \n",
       "\n",
       "   Sport Activity Level       BMI  Alcohol Consumption  Cholesterol Level  \\\n",
       "0              1.226998  8.654499             6.616191           9.809791   \n",
       "1              2.399566  7.263741             5.461729           8.256561   \n",
       "\n",
       "  Family History of Disease  ... Sleep Hours per Night Stress Level  \\\n",
       "0                       Yes  ...              4.502498     3.272403   \n",
       "1                       Yes  ...              8.834171     6.614335   \n",
       "\n",
       "   Disease_1  Sex_1  Family History of Disease_1  Medication Use_1  \\\n",
       "0          4      1                            1                 1   \n",
       "1          5      1                            1                 1   \n",
       "\n",
       "   OccupationType_1  Occupation Type_Active  Occupation Type_Manual  \\\n",
       "0                 2                     0.0                     1.0   \n",
       "1                 0                     0.0                     0.0   \n",
       "\n",
       "   Occupation Type_Sedentary  \n",
       "0                        0.0  \n",
       "1                        1.0  \n",
       "\n",
       "[2 rows x 22 columns]"
      ]
     },
     "execution_count": 632,
     "metadata": {},
     "output_type": "execute_result"
    }
   ],
   "source": [
    "df_disease.head(2)"
   ]
  },
  {
   "cell_type": "markdown",
   "id": "394562f6-2f18-4086-999e-471c3d64fdf7",
   "metadata": {},
   "source": [
    "### feature engineering"
   ]
  },
  {
   "cell_type": "markdown",
   "id": "df807796-7f53-4e72-9717-f69aadd70382",
   "metadata": {},
   "source": [
    "#### fix incorrect age"
   ]
  },
  {
   "cell_type": "code",
   "execution_count": 633,
   "id": "9f76e501-e7e2-4c7f-86c3-92a56ed49693",
   "metadata": {},
   "outputs": [],
   "source": [
    "# I will replace the age less than zero with average of age per Sex\n",
    "# the reason I used the sex , because there is corr between age and sex in the dataset (39%)"
   ]
  },
  {
   "cell_type": "code",
   "execution_count": 634,
   "id": "2540e2b6-d76d-41ac-ad0f-4a83d0d5093a",
   "metadata": {},
   "outputs": [],
   "source": [
    "def fix_incorrect_age(df):\n",
    "    sex_avg_age = df[df['Age'] >= 0].groupby('Sex')['Age'].mean().astype(np.int64)\n",
    "    print(sex_avg_age)\n",
    "    # Replace invalid ages\n",
    "    for s in sex_avg_age.index:\n",
    "        df.loc[(df['Sex'] == s) & (df['Age'] < 0), 'Age'] = sex_avg_age[s]"
   ]
  },
  {
   "cell_type": "code",
   "execution_count": 635,
   "id": "2c3db4e9-f102-4fa0-af58-4c6bf6abde1b",
   "metadata": {},
   "outputs": [
    {
     "name": "stdout",
     "output_type": "stream",
     "text": [
      "Sex\n",
      "Female    45\n",
      "Male      65\n",
      "Name: Age, dtype: int64\n"
     ]
    }
   ],
   "source": [
    "fix_incorrect_age(df_disease)"
   ]
  },
  {
   "cell_type": "code",
   "execution_count": 636,
   "id": "c2b08737-c8ba-4569-be61-1dbbde499f69",
   "metadata": {},
   "outputs": [
    {
     "data": {
      "text/html": [
       "<div>\n",
       "<style scoped>\n",
       "    .dataframe tbody tr th:only-of-type {\n",
       "        vertical-align: middle;\n",
       "    }\n",
       "\n",
       "    .dataframe tbody tr th {\n",
       "        vertical-align: top;\n",
       "    }\n",
       "\n",
       "    .dataframe thead th {\n",
       "        text-align: right;\n",
       "    }\n",
       "</style>\n",
       "<table border=\"1\" class=\"dataframe\">\n",
       "  <thead>\n",
       "    <tr style=\"text-align: right;\">\n",
       "      <th></th>\n",
       "      <th>ID</th>\n",
       "      <th>Disease</th>\n",
       "      <th>Age</th>\n",
       "      <th>Sex</th>\n",
       "      <th>Blood Pressure</th>\n",
       "      <th>Sport Activity Level</th>\n",
       "      <th>BMI</th>\n",
       "      <th>Alcohol Consumption</th>\n",
       "      <th>Cholesterol Level</th>\n",
       "      <th>Family History of Disease</th>\n",
       "      <th>...</th>\n",
       "      <th>Sleep Hours per Night</th>\n",
       "      <th>Stress Level</th>\n",
       "      <th>Disease_1</th>\n",
       "      <th>Sex_1</th>\n",
       "      <th>Family History of Disease_1</th>\n",
       "      <th>Medication Use_1</th>\n",
       "      <th>OccupationType_1</th>\n",
       "      <th>Occupation Type_Active</th>\n",
       "      <th>Occupation Type_Manual</th>\n",
       "      <th>Occupation Type_Sedentary</th>\n",
       "    </tr>\n",
       "  </thead>\n",
       "  <tbody>\n",
       "  </tbody>\n",
       "</table>\n",
       "<p>0 rows × 22 columns</p>\n",
       "</div>"
      ],
      "text/plain": [
       "Empty DataFrame\n",
       "Columns: [ID, Disease, Age, Sex, Blood Pressure, Sport Activity Level, BMI, Alcohol Consumption, Cholesterol Level, Family History of Disease, Medication Use, Occupation Type, Sleep Hours per Night, Stress Level, Disease_1, Sex_1, Family History of Disease_1, Medication Use_1, OccupationType_1, Occupation Type_Active, Occupation Type_Manual, Occupation Type_Sedentary]\n",
       "Index: []\n",
       "\n",
       "[0 rows x 22 columns]"
      ]
     },
     "execution_count": 636,
     "metadata": {},
     "output_type": "execute_result"
    }
   ],
   "source": [
    "df_disease[df_disease['Age'] < 0]"
   ]
  },
  {
   "cell_type": "markdown",
   "id": "f1cadf4f-a736-402f-971e-a8f03370b7b2",
   "metadata": {},
   "source": [
    "#### fix outliers in BMI "
   ]
  },
  {
   "cell_type": "code",
   "execution_count": 637,
   "id": "846ca266-ced9-4dfc-98ad-88437787d479",
   "metadata": {},
   "outputs": [],
   "source": [
    "# we can't filter out  the rows  even it's small amount of rows because it will remove Autoimmune Disorder from the dataset"
   ]
  },
  {
   "cell_type": "code",
   "execution_count": 638,
   "id": "ecc6d63b-265c-4712-8def-28ec67dea683",
   "metadata": {},
   "outputs": [
    {
     "data": {
      "text/html": [
       "<div>\n",
       "<style scoped>\n",
       "    .dataframe tbody tr th:only-of-type {\n",
       "        vertical-align: middle;\n",
       "    }\n",
       "\n",
       "    .dataframe tbody tr th {\n",
       "        vertical-align: top;\n",
       "    }\n",
       "\n",
       "    .dataframe thead th {\n",
       "        text-align: right;\n",
       "    }\n",
       "</style>\n",
       "<table border=\"1\" class=\"dataframe\">\n",
       "  <thead>\n",
       "    <tr style=\"text-align: right;\">\n",
       "      <th></th>\n",
       "      <th>ID</th>\n",
       "      <th>Disease</th>\n",
       "      <th>Age</th>\n",
       "      <th>Sex</th>\n",
       "      <th>Blood Pressure</th>\n",
       "      <th>Sport Activity Level</th>\n",
       "      <th>BMI</th>\n",
       "      <th>Alcohol Consumption</th>\n",
       "      <th>Cholesterol Level</th>\n",
       "      <th>Family History of Disease</th>\n",
       "      <th>...</th>\n",
       "      <th>Sleep Hours per Night</th>\n",
       "      <th>Stress Level</th>\n",
       "      <th>Disease_1</th>\n",
       "      <th>Sex_1</th>\n",
       "      <th>Family History of Disease_1</th>\n",
       "      <th>Medication Use_1</th>\n",
       "      <th>OccupationType_1</th>\n",
       "      <th>Occupation Type_Active</th>\n",
       "      <th>Occupation Type_Manual</th>\n",
       "      <th>Occupation Type_Sedentary</th>\n",
       "    </tr>\n",
       "  </thead>\n",
       "  <tbody>\n",
       "    <tr>\n",
       "      <th>0</th>\n",
       "      <td>9292</td>\n",
       "      <td>Diabetes</td>\n",
       "      <td>65</td>\n",
       "      <td>Male</td>\n",
       "      <td>8.078688</td>\n",
       "      <td>1.226998</td>\n",
       "      <td>8.654499</td>\n",
       "      <td>6.616191</td>\n",
       "      <td>9.809791</td>\n",
       "      <td>Yes</td>\n",
       "      <td>...</td>\n",
       "      <td>4.502498</td>\n",
       "      <td>3.272403</td>\n",
       "      <td>4</td>\n",
       "      <td>1</td>\n",
       "      <td>1</td>\n",
       "      <td>1</td>\n",
       "      <td>2</td>\n",
       "      <td>0.0</td>\n",
       "      <td>1.0</td>\n",
       "      <td>0.0</td>\n",
       "    </tr>\n",
       "    <tr>\n",
       "      <th>1</th>\n",
       "      <td>8088</td>\n",
       "      <td>Coronary Heart Disease</td>\n",
       "      <td>68</td>\n",
       "      <td>Male</td>\n",
       "      <td>7.561382</td>\n",
       "      <td>2.399566</td>\n",
       "      <td>7.263741</td>\n",
       "      <td>5.461729</td>\n",
       "      <td>8.256561</td>\n",
       "      <td>Yes</td>\n",
       "      <td>...</td>\n",
       "      <td>8.834171</td>\n",
       "      <td>6.614335</td>\n",
       "      <td>5</td>\n",
       "      <td>1</td>\n",
       "      <td>1</td>\n",
       "      <td>1</td>\n",
       "      <td>0</td>\n",
       "      <td>0.0</td>\n",
       "      <td>0.0</td>\n",
       "      <td>1.0</td>\n",
       "    </tr>\n",
       "    <tr>\n",
       "      <th>2</th>\n",
       "      <td>4976</td>\n",
       "      <td>Diabetes</td>\n",
       "      <td>61</td>\n",
       "      <td>Male</td>\n",
       "      <td>9.190168</td>\n",
       "      <td>2.589369</td>\n",
       "      <td>7.039525</td>\n",
       "      <td>4.674114</td>\n",
       "      <td>9.163775</td>\n",
       "      <td>Yes</td>\n",
       "      <td>...</td>\n",
       "      <td>7.076796</td>\n",
       "      <td>4.784249</td>\n",
       "      <td>4</td>\n",
       "      <td>1</td>\n",
       "      <td>1</td>\n",
       "      <td>1</td>\n",
       "      <td>2</td>\n",
       "      <td>0.0</td>\n",
       "      <td>1.0</td>\n",
       "      <td>0.0</td>\n",
       "    </tr>\n",
       "    <tr>\n",
       "      <th>3</th>\n",
       "      <td>4376</td>\n",
       "      <td>Coronary Heart Disease</td>\n",
       "      <td>63</td>\n",
       "      <td>Male</td>\n",
       "      <td>9.837562</td>\n",
       "      <td>1.762751</td>\n",
       "      <td>8.356391</td>\n",
       "      <td>7.336146</td>\n",
       "      <td>7.039061</td>\n",
       "      <td>Yes</td>\n",
       "      <td>...</td>\n",
       "      <td>8.308582</td>\n",
       "      <td>5.863965</td>\n",
       "      <td>5</td>\n",
       "      <td>1</td>\n",
       "      <td>1</td>\n",
       "      <td>1</td>\n",
       "      <td>1</td>\n",
       "      <td>1.0</td>\n",
       "      <td>0.0</td>\n",
       "      <td>0.0</td>\n",
       "    </tr>\n",
       "    <tr>\n",
       "      <th>4</th>\n",
       "      <td>3227</td>\n",
       "      <td>Diabetes</td>\n",
       "      <td>83</td>\n",
       "      <td>Male</td>\n",
       "      <td>9.469443</td>\n",
       "      <td>2.559051</td>\n",
       "      <td>7.257912</td>\n",
       "      <td>4.782407</td>\n",
       "      <td>9.860855</td>\n",
       "      <td>Yes</td>\n",
       "      <td>...</td>\n",
       "      <td>2.056106</td>\n",
       "      <td>5.610206</td>\n",
       "      <td>4</td>\n",
       "      <td>1</td>\n",
       "      <td>1</td>\n",
       "      <td>1</td>\n",
       "      <td>2</td>\n",
       "      <td>0.0</td>\n",
       "      <td>1.0</td>\n",
       "      <td>0.0</td>\n",
       "    </tr>\n",
       "  </tbody>\n",
       "</table>\n",
       "<p>5 rows × 22 columns</p>\n",
       "</div>"
      ],
      "text/plain": [
       "     ID                 Disease  Age   Sex  Blood Pressure  \\\n",
       "0  9292                Diabetes   65  Male        8.078688   \n",
       "1  8088  Coronary Heart Disease   68  Male        7.561382   \n",
       "2  4976                Diabetes   61  Male        9.190168   \n",
       "3  4376  Coronary Heart Disease   63  Male        9.837562   \n",
       "4  3227                Diabetes   83  Male        9.469443   \n",
       "\n",
       "   Sport Activity Level       BMI  Alcohol Consumption  Cholesterol Level  \\\n",
       "0              1.226998  8.654499             6.616191           9.809791   \n",
       "1              2.399566  7.263741             5.461729           8.256561   \n",
       "2              2.589369  7.039525             4.674114           9.163775   \n",
       "3              1.762751  8.356391             7.336146           7.039061   \n",
       "4              2.559051  7.257912             4.782407           9.860855   \n",
       "\n",
       "  Family History of Disease  ... Sleep Hours per Night Stress Level  \\\n",
       "0                       Yes  ...              4.502498     3.272403   \n",
       "1                       Yes  ...              8.834171     6.614335   \n",
       "2                       Yes  ...              7.076796     4.784249   \n",
       "3                       Yes  ...              8.308582     5.863965   \n",
       "4                       Yes  ...              2.056106     5.610206   \n",
       "\n",
       "   Disease_1  Sex_1  Family History of Disease_1  Medication Use_1  \\\n",
       "0          4      1                            1                 1   \n",
       "1          5      1                            1                 1   \n",
       "2          4      1                            1                 1   \n",
       "3          5      1                            1                 1   \n",
       "4          4      1                            1                 1   \n",
       "\n",
       "   OccupationType_1  Occupation Type_Active  Occupation Type_Manual  \\\n",
       "0                 2                     0.0                     1.0   \n",
       "1                 0                     0.0                     0.0   \n",
       "2                 2                     0.0                     1.0   \n",
       "3                 1                     1.0                     0.0   \n",
       "4                 2                     0.0                     1.0   \n",
       "\n",
       "   Occupation Type_Sedentary  \n",
       "0                        0.0  \n",
       "1                        1.0  \n",
       "2                        0.0  \n",
       "3                        0.0  \n",
       "4                        0.0  \n",
       "\n",
       "[5 rows x 22 columns]"
      ]
     },
     "execution_count": 638,
     "metadata": {},
     "output_type": "execute_result"
    }
   ],
   "source": [
    "df_disease.head()"
   ]
  },
  {
   "cell_type": "code",
   "execution_count": 639,
   "id": "3d7234b9-a363-4e81-8468-3ba75950ead8",
   "metadata": {},
   "outputs": [],
   "source": [
    "df_disease['BMI']=df_disease['BMI'].clip(upper=15)"
   ]
  },
  {
   "cell_type": "code",
   "execution_count": 640,
   "id": "86447d27-0673-4574-b4ca-66936057c3b9",
   "metadata": {},
   "outputs": [],
   "source": [
    "def filter_high_outlier(df, column):\n",
    "    # filter by upper outlier by 3 stanrd deviation more than average\n",
    "    upper_limit = df[column].mean()+ 2*df[column].std() \n",
    "    print(upper_limit)\n",
    "    # set column to upper limit\n",
    "    print('number of rows BMI changed are ' ,df[df[column] > upper_limit].shape[0]) \n",
    "    df[column] = df[column].clip(upper=upper_limit)\n",
    "    return\n",
    "    "
   ]
  },
  {
   "cell_type": "code",
   "execution_count": 641,
   "id": "13e3a24f-23c3-4ee9-bc3e-fd32874a386a",
   "metadata": {},
   "outputs": [
    {
     "name": "stdout",
     "output_type": "stream",
     "text": [
      "12.290829829180694\n",
      "number of rows BMI changed are  311\n"
     ]
    }
   ],
   "source": [
    "filter_high_outlier(df_disease,'BMI')"
   ]
  },
  {
   "cell_type": "code",
   "execution_count": 646,
   "id": "4f97b094-73f0-4890-9fd8-0bf04b9d105a",
   "metadata": {},
   "outputs": [
    {
     "data": {
      "text/plain": [
       "np.float64(12.290829829180694)"
      ]
     },
     "execution_count": 646,
     "metadata": {},
     "output_type": "execute_result"
    }
   ],
   "source": [
    "df_disease.BMI.max()"
   ]
  },
  {
   "cell_type": "markdown",
   "id": "4c783146-da3d-4988-84c6-53d4b531b5f3",
   "metadata": {},
   "source": [
    "### column to use for the model"
   ]
  },
  {
   "cell_type": "code",
   "execution_count": 677,
   "id": "ce8692bf-da31-455a-9de8-35058d5f3622",
   "metadata": {},
   "outputs": [
    {
     "data": {
      "text/html": [
       "<div>\n",
       "<style scoped>\n",
       "    .dataframe tbody tr th:only-of-type {\n",
       "        vertical-align: middle;\n",
       "    }\n",
       "\n",
       "    .dataframe tbody tr th {\n",
       "        vertical-align: top;\n",
       "    }\n",
       "\n",
       "    .dataframe thead th {\n",
       "        text-align: right;\n",
       "    }\n",
       "</style>\n",
       "<table border=\"1\" class=\"dataframe\">\n",
       "  <thead>\n",
       "    <tr style=\"text-align: right;\">\n",
       "      <th></th>\n",
       "      <th>0</th>\n",
       "    </tr>\n",
       "  </thead>\n",
       "  <tbody>\n",
       "    <tr>\n",
       "      <th>ID</th>\n",
       "      <td>9292</td>\n",
       "    </tr>\n",
       "    <tr>\n",
       "      <th>Disease</th>\n",
       "      <td>Diabetes</td>\n",
       "    </tr>\n",
       "    <tr>\n",
       "      <th>Age</th>\n",
       "      <td>65</td>\n",
       "    </tr>\n",
       "    <tr>\n",
       "      <th>Sex</th>\n",
       "      <td>Male</td>\n",
       "    </tr>\n",
       "    <tr>\n",
       "      <th>Blood Pressure</th>\n",
       "      <td>8.078688</td>\n",
       "    </tr>\n",
       "    <tr>\n",
       "      <th>Sport Activity Level</th>\n",
       "      <td>1.226998</td>\n",
       "    </tr>\n",
       "    <tr>\n",
       "      <th>BMI</th>\n",
       "      <td>8.654499</td>\n",
       "    </tr>\n",
       "    <tr>\n",
       "      <th>Alcohol Consumption</th>\n",
       "      <td>6.616191</td>\n",
       "    </tr>\n",
       "    <tr>\n",
       "      <th>Cholesterol Level</th>\n",
       "      <td>9.809791</td>\n",
       "    </tr>\n",
       "    <tr>\n",
       "      <th>Family History of Disease</th>\n",
       "      <td>Yes</td>\n",
       "    </tr>\n",
       "    <tr>\n",
       "      <th>Medication Use</th>\n",
       "      <td>Yes</td>\n",
       "    </tr>\n",
       "    <tr>\n",
       "      <th>Occupation Type</th>\n",
       "      <td>Manual</td>\n",
       "    </tr>\n",
       "    <tr>\n",
       "      <th>Sleep Hours per Night</th>\n",
       "      <td>4.502498</td>\n",
       "    </tr>\n",
       "    <tr>\n",
       "      <th>Stress Level</th>\n",
       "      <td>3.272403</td>\n",
       "    </tr>\n",
       "    <tr>\n",
       "      <th>Disease_1</th>\n",
       "      <td>4</td>\n",
       "    </tr>\n",
       "    <tr>\n",
       "      <th>Sex_1</th>\n",
       "      <td>1</td>\n",
       "    </tr>\n",
       "    <tr>\n",
       "      <th>Family History of Disease_1</th>\n",
       "      <td>1</td>\n",
       "    </tr>\n",
       "    <tr>\n",
       "      <th>Medication Use_1</th>\n",
       "      <td>1</td>\n",
       "    </tr>\n",
       "    <tr>\n",
       "      <th>OccupationType_1</th>\n",
       "      <td>2</td>\n",
       "    </tr>\n",
       "    <tr>\n",
       "      <th>Occupation Type_Active</th>\n",
       "      <td>0.0</td>\n",
       "    </tr>\n",
       "    <tr>\n",
       "      <th>Occupation Type_Manual</th>\n",
       "      <td>1.0</td>\n",
       "    </tr>\n",
       "    <tr>\n",
       "      <th>Occupation Type_Sedentary</th>\n",
       "      <td>0.0</td>\n",
       "    </tr>\n",
       "  </tbody>\n",
       "</table>\n",
       "</div>"
      ],
      "text/plain": [
       "                                    0\n",
       "ID                               9292\n",
       "Disease                      Diabetes\n",
       "Age                                65\n",
       "Sex                              Male\n",
       "Blood Pressure               8.078688\n",
       "Sport Activity Level         1.226998\n",
       "BMI                          8.654499\n",
       "Alcohol Consumption          6.616191\n",
       "Cholesterol Level            9.809791\n",
       "Family History of Disease         Yes\n",
       "Medication Use                    Yes\n",
       "Occupation Type                Manual\n",
       "Sleep Hours per Night        4.502498\n",
       "Stress Level                 3.272403\n",
       "Disease_1                           4\n",
       "Sex_1                               1\n",
       "Family History of Disease_1         1\n",
       "Medication Use_1                    1\n",
       "OccupationType_1                    2\n",
       "Occupation Type_Active            0.0\n",
       "Occupation Type_Manual            1.0\n",
       "Occupation Type_Sedentary         0.0"
      ]
     },
     "execution_count": 677,
     "metadata": {},
     "output_type": "execute_result"
    }
   ],
   "source": [
    "df_disease.head(1).T"
   ]
  },
  {
   "cell_type": "code",
   "execution_count": 678,
   "id": "13bc1e18-5780-4118-9088-c0c14ac48fa9",
   "metadata": {},
   "outputs": [],
   "source": [
    "col_to_use=[ 'Age', 'Blood Pressure', 'Sport Activity Level',\n",
    "       'BMI', 'Alcohol Consumption', 'Cholesterol Level', \n",
    "       'Sleep Hours per Night', 'Stress Level', 'Disease_1', 'Sex_1',\n",
    "       'Family History of Disease_1', 'Medication Use_1',\n",
    "       'Occupation Type_Active', 'Occupation Type_Manual',\n",
    "       'Occupation Type_Sedentary']"
   ]
  },
  {
   "cell_type": "code",
   "execution_count": 679,
   "id": "d228b720-7c06-4cf4-b2c5-ccd91c83539e",
   "metadata": {},
   "outputs": [],
   "source": [
    "df_disease_prod=df_disease[col_to_use].copy()"
   ]
  },
  {
   "cell_type": "code",
   "execution_count": 680,
   "id": "67d727a9-2cb0-48c0-bc99-457e93e81f59",
   "metadata": {},
   "outputs": [
    {
     "data": {
      "text/html": [
       "<div>\n",
       "<style scoped>\n",
       "    .dataframe tbody tr th:only-of-type {\n",
       "        vertical-align: middle;\n",
       "    }\n",
       "\n",
       "    .dataframe tbody tr th {\n",
       "        vertical-align: top;\n",
       "    }\n",
       "\n",
       "    .dataframe thead th {\n",
       "        text-align: right;\n",
       "    }\n",
       "</style>\n",
       "<table border=\"1\" class=\"dataframe\">\n",
       "  <thead>\n",
       "    <tr style=\"text-align: right;\">\n",
       "      <th></th>\n",
       "      <th>Age</th>\n",
       "      <th>Blood Pressure</th>\n",
       "      <th>Sport Activity Level</th>\n",
       "      <th>BMI</th>\n",
       "      <th>Alcohol Consumption</th>\n",
       "      <th>Cholesterol Level</th>\n",
       "      <th>Sleep Hours per Night</th>\n",
       "      <th>Stress Level</th>\n",
       "      <th>Disease_1</th>\n",
       "      <th>Sex_1</th>\n",
       "      <th>Family History of Disease_1</th>\n",
       "      <th>Medication Use_1</th>\n",
       "      <th>Occupation Type_Active</th>\n",
       "      <th>Occupation Type_Manual</th>\n",
       "      <th>Occupation Type_Sedentary</th>\n",
       "    </tr>\n",
       "  </thead>\n",
       "  <tbody>\n",
       "    <tr>\n",
       "      <th>0</th>\n",
       "      <td>65</td>\n",
       "      <td>8.078688</td>\n",
       "      <td>1.226998</td>\n",
       "      <td>8.654499</td>\n",
       "      <td>6.616191</td>\n",
       "      <td>9.809791</td>\n",
       "      <td>4.502498</td>\n",
       "      <td>3.272403</td>\n",
       "      <td>4</td>\n",
       "      <td>1</td>\n",
       "      <td>1</td>\n",
       "      <td>1</td>\n",
       "      <td>0.0</td>\n",
       "      <td>1.0</td>\n",
       "      <td>0.0</td>\n",
       "    </tr>\n",
       "    <tr>\n",
       "      <th>1</th>\n",
       "      <td>68</td>\n",
       "      <td>7.561382</td>\n",
       "      <td>2.399566</td>\n",
       "      <td>7.263741</td>\n",
       "      <td>5.461729</td>\n",
       "      <td>8.256561</td>\n",
       "      <td>8.834171</td>\n",
       "      <td>6.614335</td>\n",
       "      <td>5</td>\n",
       "      <td>1</td>\n",
       "      <td>1</td>\n",
       "      <td>1</td>\n",
       "      <td>0.0</td>\n",
       "      <td>0.0</td>\n",
       "      <td>1.0</td>\n",
       "    </tr>\n",
       "  </tbody>\n",
       "</table>\n",
       "</div>"
      ],
      "text/plain": [
       "   Age  Blood Pressure  Sport Activity Level       BMI  Alcohol Consumption  \\\n",
       "0   65        8.078688              1.226998  8.654499             6.616191   \n",
       "1   68        7.561382              2.399566  7.263741             5.461729   \n",
       "\n",
       "   Cholesterol Level  Sleep Hours per Night  Stress Level  Disease_1  Sex_1  \\\n",
       "0           9.809791               4.502498      3.272403          4      1   \n",
       "1           8.256561               8.834171      6.614335          5      1   \n",
       "\n",
       "   Family History of Disease_1  Medication Use_1  Occupation Type_Active  \\\n",
       "0                            1                 1                     0.0   \n",
       "1                            1                 1                     0.0   \n",
       "\n",
       "   Occupation Type_Manual  Occupation Type_Sedentary  \n",
       "0                     1.0                        0.0  \n",
       "1                     0.0                        1.0  "
      ]
     },
     "execution_count": 680,
     "metadata": {},
     "output_type": "execute_result"
    }
   ],
   "source": [
    "df_disease_prod.head(2)"
   ]
  },
  {
   "cell_type": "code",
   "execution_count": 681,
   "id": "17e76c46-865d-476c-8dc7-11f214462ee3",
   "metadata": {},
   "outputs": [
    {
     "data": {
      "text/plain": [
       "(10311, 15)"
      ]
     },
     "execution_count": 681,
     "metadata": {},
     "output_type": "execute_result"
    }
   ],
   "source": [
    "df_disease_prod.shape"
   ]
  },
  {
   "cell_type": "markdown",
   "id": "fa0fad5a-44da-4b9e-9bde-699225a54274",
   "metadata": {},
   "source": [
    "## split data"
   ]
  },
  {
   "cell_type": "code",
   "execution_count": 682,
   "id": "4281eae1-fc7e-4af9-95d4-d354216bbcb6",
   "metadata": {},
   "outputs": [],
   "source": [
    "X = df_disease_prod.drop('Disease_1', axis=1)\n",
    "y = df_disease_prod.Disease_1\n",
    "\n",
    "X_train, X_test, y_train, y_test = train_test_split(X, y, train_size=0.7,stratify=y, random_state=0)"
   ]
  },
  {
   "cell_type": "code",
   "execution_count": 683,
   "id": "62e95be0-2f3d-46dc-a6b1-2666c4f003f8",
   "metadata": {},
   "outputs": [
    {
     "data": {
      "text/plain": [
       "((7217, 14), (3094, 14))"
      ]
     },
     "execution_count": 683,
     "metadata": {},
     "output_type": "execute_result"
    }
   ],
   "source": [
    "X_train.shape, X_test.shape"
   ]
  },
  {
   "cell_type": "code",
   "execution_count": 684,
   "id": "2178f075-634c-4c5a-9ecc-1e9276bd1d24",
   "metadata": {},
   "outputs": [
    {
     "data": {
      "text/plain": [
       "array([4, 5, 1, 2, 0, 3])"
      ]
     },
     "execution_count": 684,
     "metadata": {},
     "output_type": "execute_result"
    }
   ],
   "source": [
    "df_disease_prod.Disease_1.unique()"
   ]
  },
  {
   "cell_type": "markdown",
   "id": "c685bd71-83fe-477f-b861-39c345769830",
   "metadata": {},
   "source": [
    "## run model 1- Decision Tree"
   ]
  },
  {
   "cell_type": "markdown",
   "id": "b3b4aba9-1e31-4a6f-9d24-2896a418cf56",
   "metadata": {},
   "source": [
    "### grid search"
   ]
  },
  {
   "cell_type": "code",
   "execution_count": 734,
   "id": "2ff4cf36-8b5f-4f77-aa83-1d4a8e009891",
   "metadata": {},
   "outputs": [],
   "source": [
    "# Custom weighted score function\n",
    "def weighted_custom_score(y_true, y_pred,verbose=False):\n",
    "    # Class weights: 4 and 5 are more important\n",
    "    class_weights = {\n",
    "        0: 1,\n",
    "        1: 1,\n",
    "        2: 1,\n",
    "        3: 2,\n",
    "        4: 2,\n",
    "        5: 2\n",
    "    }\n",
    "    \n",
    "    unique_classes = np.unique(np.concatenate([y_true, y_pred]))\n",
    "    \n",
    "    recalls = recall_score(y_true, y_pred, average=None, labels=unique_classes, zero_division=0)\n",
    "    precisions = precision_score(y_true, y_pred, average=None, labels=unique_classes, zero_division=0)\n",
    "    if verbose:\n",
    "        print( 'original recalls are ', recalls)\n",
    "        print( 'original precisions are ', precisions)\n",
    "    \n",
    "    total_weight = sum(class_weights.get(cls, 1) for cls in unique_classes)\n",
    "    if verbose:\n",
    "        print('total_weight is ', total_weight)\n",
    "    \n",
    "    weighted_recall = sum(recalls[i] * class_weights.get(cls, 1) for i, cls in enumerate(unique_classes)) / total_weight\n",
    "    weighted_precision = sum(precisions[i] * class_weights.get(cls, 1) for i, cls in enumerate(unique_classes)) / total_weight\n",
    "    if verbose:\n",
    "        print( 'weighted recall is ', weighted_recall)\n",
    "        print( 'weighted precision are ', weighted_precision)\n",
    "    \n",
    "    final_score = 0.7 * weighted_recall + 0.3 * weighted_precision\n",
    "    if verbose:    \n",
    "        print('final_score is ', final_score)\n",
    "    return final_score"
   ]
  },
  {
   "cell_type": "code",
   "execution_count": 735,
   "id": "6e24f4db-149f-4350-94fb-603b05f31874",
   "metadata": {},
   "outputs": [],
   "source": [
    "scorer = make_scorer(weighted_custom_score, greater_is_better=True)"
   ]
  },
  {
   "cell_type": "code",
   "execution_count": null,
   "id": "bcf76ffc-8419-4da3-be93-89a602884d39",
   "metadata": {},
   "outputs": [],
   "source": [
    "    param_grid = {\n",
    "    \"criterion\": [\"gini\", \"entropy\"],\n",
    "    \"max_depth\": [None, 5, 10, 20],\n",
    "    \"min_samples_split\": [2, 5, 10],\n",
    "    \"min_samples_leaf\": [1, 2, 4],\n",
    "    \"max_features\": [\"sqrt\", \"log2\", None],\n",
    "    \"class_weight\": [None, \"balanced\"]\n",
    "    }"
   ]
  },
  {
   "cell_type": "code",
   "execution_count": 736,
   "id": "4f38af71-af80-41af-aae8-1092d82a6fb8",
   "metadata": {},
   "outputs": [],
   "source": [
    "def Grid_Search_CV(X_train, y_train, model,scorer,param_grid):\n",
    "    estimator = model\n",
    "\n",
    "\n",
    "    grid = GridSearchCV(estimator, param_grid,scoring=scorer, n_jobs=-1, cv=5)\n",
    "\n",
    "    grid.fit(X_train, y_train)\n",
    "\n",
    "    return grid.best_score_ , grid.best_params_"
   ]
  },
  {
   "cell_type": "code",
   "execution_count": 738,
   "id": "37387f17-cbbd-47b8-b054-75bb16cfa152",
   "metadata": {},
   "outputs": [
    {
     "data": {
      "text/plain": [
       "(np.float64(0.9743179976023206),\n",
       " {'class_weight': 'balanced',\n",
       "  'criterion': 'entropy',\n",
       "  'max_depth': 10,\n",
       "  'max_features': None,\n",
       "  'min_samples_leaf': 1,\n",
       "  'min_samples_split': 10})"
      ]
     },
     "execution_count": 738,
     "metadata": {},
     "output_type": "execute_result"
    }
   ],
   "source": [
    "Grid_Search_CV(X_train, y_train, DecisionTreeClassifier(),scorer)"
   ]
  },
  {
   "cell_type": "markdown",
   "id": "207a7c15-7244-4b23-883f-6556d8b8768b",
   "metadata": {},
   "source": [
    "### final model tree"
   ]
  },
  {
   "cell_type": "code",
   "execution_count": 739,
   "id": "6a41f2ba-9277-4802-9f78-88f4eec0e079",
   "metadata": {},
   "outputs": [],
   "source": [
    "clf = DecisionTreeClassifier(random_state=42,\n",
    "                             criterion= 'entropy',max_depth=10, max_features= None,min_samples_leaf=1,min_samples_split= 10,class_weight= 'balanced')\n",
    "clf.fit(X_train, y_train)\n",
    "y_pred = clf.predict(X_test)"
   ]
  },
  {
   "cell_type": "markdown",
   "id": "0321a396-3c11-4b15-8bd7-c3848b07976e",
   "metadata": {},
   "source": [
    "## check accuracy"
   ]
  },
  {
   "cell_type": "code",
   "execution_count": 740,
   "id": "4b27bf36-42fd-48ad-9831-9e3752be3cac",
   "metadata": {},
   "outputs": [
    {
     "name": "stdout",
     "output_type": "stream",
     "text": [
      "[[595   3   1   0   1   1]\n",
      " [  1 607   0   0   0   0]\n",
      " [  0   0 600   0   0   0]\n",
      " [  0   0   0  93   0   0]\n",
      " [  0   0   0   0 594   1]\n",
      " [  0   0   0   0  59 538]]\n",
      "              precision    recall  f1-score   support\n",
      "\n",
      "           0       1.00      0.99      0.99       601\n",
      "           1       1.00      1.00      1.00       608\n",
      "           2       1.00      1.00      1.00       600\n",
      "           3       1.00      1.00      1.00        93\n",
      "           4       0.91      1.00      0.95       595\n",
      "           5       1.00      0.90      0.95       597\n",
      "\n",
      "    accuracy                           0.98      3094\n",
      "   macro avg       0.98      0.98      0.98      3094\n",
      "weighted avg       0.98      0.98      0.98      3094\n",
      "\n"
     ]
    }
   ],
   "source": [
    "print(confusion_matrix(y_test, y_pred))\n",
    "print(classification_report(y_test, y_pred))"
   ]
  },
  {
   "cell_type": "code",
   "execution_count": 741,
   "id": "a60dba01-7658-4524-af3e-1f49345ac0d6",
   "metadata": {},
   "outputs": [
    {
     "name": "stdout",
     "output_type": "stream",
     "text": [
      "original recalls are  [0.99001664 0.99835526 1.         1.         0.99831933 0.90117253]\n",
      "original precisions are  [0.99832215 0.99508197 0.99833611 1.         0.90825688 0.9962963 ]\n",
      "total_weight is  9\n",
      "weighted recall is  0.976372846242406\n",
      "weighted precision are  0.9778718417126431\n",
      "final_score is  0.9768225448834771\n",
      "Custom weighted score: 0.977\n"
     ]
    }
   ],
   "source": [
    "score=weighted_custom_score(y_test, y_pred,verbose=True)\n",
    "print(f\"Custom weighted score: {score:.3f}\")"
   ]
  },
  {
   "cell_type": "code",
   "execution_count": 742,
   "id": "14963802-1547-47c3-8056-6dcae920cee9",
   "metadata": {
    "scrolled": true
   },
   "outputs": [
    {
     "data": {
      "image/png": "[encoded data removed]",
      "text/plain": [
       "<Figure size 2000x1000 with 1 Axes>"
      ]
     },
     "metadata": {},
     "output_type": "display_data"
    }
   ],
   "source": [
    "plt.figure(figsize=(20,10))\n",
    "plot_tree(clf, filled=True, feature_names=X.columns, class_names=clf.classes_.astype(str),fontsize=4)\n",
    "plt.show()"
   ]
  },
  {
   "cell_type": "markdown",
   "id": "c6fb49e2-4ec6-4098-8124-4be0288e1d82",
   "metadata": {},
   "source": [
    "### feature importance "
   ]
  },
  {
   "cell_type": "code",
   "execution_count": 743,
   "id": "06009727-6653-4f0e-ae62-448115f78f3a",
   "metadata": {},
   "outputs": [
    {
     "data": {
      "image/png": "[encoded data removed]",
      "text/plain": [
       "<Figure size 800x1000 with 1 Axes>"
      ]
     },
     "metadata": {},
     "output_type": "display_data"
    }
   ],
   "source": [
    "features=X_train.columns\n",
    "# Get feature importances from a trained tree model\n",
    "importances = clf.feature_importances_\n",
    "feature_names = X.columns\n",
    "\n",
    "# Create a pandas Series for easier sorting\n",
    "feat_imp = pd.Series(importances, index=feature_names)\n",
    "\n",
    "# Sort by importance (optional)\n",
    "feat_imp = feat_imp.sort_values()\n",
    "\n",
    "# Plot vertically (horizontal bars)\n",
    "plt.figure(figsize=(8, 10))  # Adjust the size as needed\n",
    "plt.barh(feat_imp.index, feat_imp.values)\n",
    "plt.xlabel(\"Feature Importance\")\n",
    "plt.title(\"Vertical Chart of Feature Importances\")\n",
    "plt.tight_layout()\n",
    "plt.show()"
   ]
  },
  {
   "cell_type": "markdown",
   "id": "5b6daa6d-cf38-4281-8249-a49f91d9d895",
   "metadata": {},
   "source": [
    "## run model 2 - XGBoost"
   ]
  },
  {
   "cell_type": "markdown",
   "id": "d4c07753-a016-462b-bb2c-e8233b551170",
   "metadata": {},
   "source": [
    "### grid search"
   ]
  },
  {
   "cell_type": "code",
   "execution_count": 745,
   "id": "8ca92fbe-744b-4855-a4f6-36204fdc60bb",
   "metadata": {},
   "outputs": [],
   "source": [
    "param_grid = {\n",
    "    'n_estimators': [50, 100],\n",
    "    'max_depth': [3, 5, 7],\n",
    "    'learning_rate': [0.01, 0.1, 0.2],\n",
    "    'subsample': [0.8, 1.0],\n",
    "    'colsample_bytree': [0.8, 1.0]\n",
    "}"
   ]
  },
  {
   "cell_type": "code",
   "execution_count": null,
   "id": "a9ad983b-19a1-4c76-8e16-e3595c21c068",
   "metadata": {},
   "outputs": [],
   "source": [
    "Grid_Search_CV(X_train, y_train, XGBClassifier(),scorer)"
   ]
  },
  {
   "cell_type": "code",
   "execution_count": null,
   "id": "9846a3b3-9156-41f4-8152-4a28df3d7dc1",
   "metadata": {},
   "outputs": [],
   "source": [
    "model = XGBClassifier(use_label_encoder=False, eval_metric='logloss')  # turn off warning\n",
    "model.fit(X_train, y_train)"
   ]
  }
 ],
 "metadata": {
  "kernelspec": {
   "display_name": "Python 3 (ipykernel)",
   "language": "python",
   "name": "python3"
  },
  "language_info": {
   "codemirror_mode": {
    "name": "ipython",
    "version": 3
   },
   "file_extension": ".py",
   "mimetype": "text/x-python",
   "name": "python",
   "nbconvert_exporter": "python",
   "pygments_lexer": "ipython3",
   "version": "3.12.9"
  }
 },
 "nbformat": 4,
 "nbformat_minor": 5
}
